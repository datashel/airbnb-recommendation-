{
  "nbformat": 4,
  "nbformat_minor": 0,
  "metadata": {
    "colab": {
      "name": "atos.ipynb",
      "version": "0.3.2",
      "provenance": []
    },
    "kernelspec": {
      "name": "python3",
      "display_name": "Python 3"
    }
  },
  "cells": [
    {
      "cell_type": "code",
      "metadata": {
        "id": "0rK7Jio_LBZc",
        "colab_type": "code",
        "colab": {
          "base_uri": "https://localhost:8080/",
          "height": 34
        },
        "outputId": "243c9650-c4f4-45a1-bfc4-8b58fe43da2f"
      },
      "source": [
        "import pandas as pd\n",
        "from six.moves import cPickle\n",
        "import numpy as np\n",
        "from scipy.sparse import csr_matrix\n",
        "from sklearn.decomposition import TruncatedSVD\n",
        "from scipy.sparse.linalg import svds\n",
        "import matplotlib.pyplot as plt\n",
        "from sklearn.metrics import mean_squared_error\n",
        "%matplotlib inline\n",
        "\n",
        "import warnings\n",
        "warnings.filterwarnings(\"ignore\")\n",
        "\n",
        "import seaborn as sns\n",
        "from keras.preprocessing.text import Tokenizer\n",
        "from keras.preprocessing.sequence import pad_sequences\n",
        "from keras.models import Sequential\n",
        "from keras.layers import Dense, Embedding, LSTM, SpatialDropout1D\n",
        "from sklearn.model_selection import train_test_split\n",
        "from keras.utils.np_utils import to_categorical\n",
        "from keras.callbacks import EarlyStopping\n",
        "from keras.layers import Dropout\n"
      ],
      "execution_count": 2,
      "outputs": [
        {
          "output_type": "stream",
          "text": [
            "Using TensorFlow backend.\n"
          ],
          "name": "stderr"
        }
      ]
    },
    {
      "cell_type": "code",
      "metadata": {
        "id": "r46xxNydLKe_",
        "colab_type": "code",
        "colab": {
          "resources": {
            "http://localhost:8080/nbextensions/google.colab/files.js": {
              "data": "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",
              "ok": true,
              "headers": [
                [
                  "content-type",
                  "application/javascript"
                ]
              ],
              "status": 200,
              "status_text": ""
            }
          },
          "base_uri": "https://localhost:8080/",
          "height": 74
        },
        "outputId": "6cb32dbe-dfb9-4802-a6ab-c40d95118e1a"
      },
      "source": [
        "from google.colab import files\n",
        "uploaded = files.upload()"
      ],
      "execution_count": 4,
      "outputs": [
        {
          "output_type": "display_data",
          "data": {
            "text/html": [
              "\n",
              "     <input type=\"file\" id=\"files-a3238948-7913-4cfa-8c29-aedf02cdc8b2\" name=\"files[]\" multiple disabled />\n",
              "     <output id=\"result-a3238948-7913-4cfa-8c29-aedf02cdc8b2\">\n",
              "      Upload widget is only available when the cell has been executed in the\n",
              "      current browser session. Please rerun this cell to enable.\n",
              "      </output>\n",
              "      <script src=\"/nbextensions/google.colab/files.js\"></script> "
            ],
            "text/plain": [
              "<IPython.core.display.HTML object>"
            ]
          },
          "metadata": {
            "tags": []
          }
        },
        {
          "output_type": "stream",
          "text": [
            "Saving airbnb-dataset-of-barcelona-city.zip to airbnb-dataset-of-barcelona-city.zip\n"
          ],
          "name": "stdout"
        }
      ]
    },
    {
      "cell_type": "code",
      "metadata": {
        "id": "vAcd3q7OLe3G",
        "colab_type": "code",
        "colab": {
          "base_uri": "https://localhost:8080/",
          "height": 34
        },
        "outputId": "2b869c03-c77d-4aa5-96f9-2e6495094111"
      },
      "source": [
        "ls"
      ],
      "execution_count": 5,
      "outputs": [
        {
          "output_type": "stream",
          "text": [
            "airbnb-dataset-of-barcelona-city.zip  \u001b[0m\u001b[01;34msample_data\u001b[0m/\n"
          ],
          "name": "stdout"
        }
      ]
    },
    {
      "cell_type": "code",
      "metadata": {
        "id": "Ly04PNQXLiQH",
        "colab_type": "code",
        "colab": {
          "base_uri": "https://localhost:8080/",
          "height": 86
        },
        "outputId": "26024158-bb24-4264-ee94-6fd34ff9fb86"
      },
      "source": [
        "!unzip  'airbnb-dataset-of-barcelona-city.zip'"
      ],
      "execution_count": 6,
      "outputs": [
        {
          "output_type": "stream",
          "text": [
            "Archive:  airbnb-dataset-of-barcelona-city.zip\n",
            "  inflating: tomslee_airbnb_barcelona_1477_2017-07-23.csv  \n",
            "  inflating: barca.csv               \n",
            "  inflating: barca_shuffle.csv       \n"
          ],
          "name": "stdout"
        }
      ]
    },
    {
      "cell_type": "code",
      "metadata": {
        "id": "ZzUBguh8LuvU",
        "colab_type": "code",
        "colab": {}
      },
      "source": [
        "df1=pd.read_csv(\"tomslee_airbnb_barcelona_1477_2017-07-23.csv\")\n",
        "df2=pd.read_csv(\"barca.csv\")\n",
        "df3=pd.read_csv(\"barca_shuffle.csv\")"
      ],
      "execution_count": 0,
      "outputs": []
    },
    {
      "cell_type": "code",
      "metadata": {
        "id": "j5ycILBwNCWf",
        "colab_type": "code",
        "colab": {
          "base_uri": "https://localhost:8080/",
          "height": 121
        },
        "outputId": "2633a3c6-659f-4f28-cd54-7bfd5e81f599"
      },
      "source": [
        "print(df2.columns)\n",
        "print(df3.columns)\n",
        "#print (df2 == df3).all()[0]"
      ],
      "execution_count": 8,
      "outputs": [
        {
          "output_type": "stream",
          "text": [
            "Index(['room_type', 'neighborhood', 'reviews', 'overall_satisfaction',\n",
            "       'accommodates', 'bedrooms', 'price', 'latitude', 'longitude'],\n",
            "      dtype='object')\n",
            "Index(['0', 'room_type', 'neighborhood', 'overall_satisfaction',\n",
            "       'accommodates', 'bedrooms', 'price', 'latitude', 'longitude'],\n",
            "      dtype='object')\n"
          ],
          "name": "stdout"
        }
      ]
    },
    {
      "cell_type": "code",
      "metadata": {
        "id": "zLt8HbR7L-mo",
        "colab_type": "code",
        "colab": {
          "base_uri": "https://localhost:8080/",
          "height": 104
        },
        "outputId": "d1baddef-5097-4604-8841-99350e9c79a3"
      },
      "source": [
        "df1.columns"
      ],
      "execution_count": 13,
      "outputs": [
        {
          "output_type": "execute_result",
          "data": {
            "text/plain": [
              "Index(['room_id', 'survey_id', 'host_id', 'room_type', 'country', 'city',\n",
              "       'borough', 'neighborhood', 'reviews', 'overall_satisfaction',\n",
              "       'accommodates', 'bedrooms', 'bathrooms', 'price', 'minstay', 'name',\n",
              "       'last_modified', 'latitude', 'longitude', 'location'],\n",
              "      dtype='object')"
            ]
          },
          "metadata": {
            "tags": []
          },
          "execution_count": 13
        }
      ]
    },
    {
      "cell_type": "code",
      "metadata": {
        "id": "ygaT3QsdSQgD",
        "colab_type": "code",
        "colab": {
          "base_uri": "https://localhost:8080/",
          "height": 156
        },
        "outputId": "eb5bb7e1-fd52-4e6e-ccd4-22cccdd2543e"
      },
      "source": [
        "print(df1['room_type'].value_counts())\n",
        "print(df2['room_type'].value_counts())"
      ],
      "execution_count": 78,
      "outputs": [
        {
          "output_type": "stream",
          "text": [
            "Private room       9821\n",
            "Entire home/apt    8877\n",
            "Shared room         140\n",
            "Name: room_type, dtype: int64\n",
            "Private room       6526\n",
            "Entire home/apt    6024\n",
            "Shared room          83\n",
            "Name: room_type, dtype: int64\n"
          ],
          "name": "stdout"
        }
      ]
    },
    {
      "cell_type": "code",
      "metadata": {
        "id": "nfoPGgu6T1Yb",
        "colab_type": "code",
        "colab": {
          "base_uri": "https://localhost:8080/",
          "height": 586
        },
        "outputId": "92f17c8e-1083-4574-c9f1-1feb2e90823a"
      },
      "source": [
        "df1.head()"
      ],
      "execution_count": 20,
      "outputs": [
        {
          "output_type": "execute_result",
          "data": {
            "text/html": [
              "<div>\n",
              "<style scoped>\n",
              "    .dataframe tbody tr th:only-of-type {\n",
              "        vertical-align: middle;\n",
              "    }\n",
              "\n",
              "    .dataframe tbody tr th {\n",
              "        vertical-align: top;\n",
              "    }\n",
              "\n",
              "    .dataframe thead th {\n",
              "        text-align: right;\n",
              "    }\n",
              "</style>\n",
              "<table border=\"1\" class=\"dataframe\">\n",
              "  <thead>\n",
              "    <tr style=\"text-align: right;\">\n",
              "      <th></th>\n",
              "      <th>room_id</th>\n",
              "      <th>survey_id</th>\n",
              "      <th>host_id</th>\n",
              "      <th>room_type</th>\n",
              "      <th>country</th>\n",
              "      <th>city</th>\n",
              "      <th>borough</th>\n",
              "      <th>neighborhood</th>\n",
              "      <th>reviews</th>\n",
              "      <th>overall_satisfaction</th>\n",
              "      <th>accommodates</th>\n",
              "      <th>bedrooms</th>\n",
              "      <th>bathrooms</th>\n",
              "      <th>price</th>\n",
              "      <th>minstay</th>\n",
              "      <th>name</th>\n",
              "      <th>last_modified</th>\n",
              "      <th>latitude</th>\n",
              "      <th>longitude</th>\n",
              "      <th>location</th>\n",
              "    </tr>\n",
              "  </thead>\n",
              "  <tbody>\n",
              "    <tr>\n",
              "      <th>0</th>\n",
              "      <td>12331794</td>\n",
              "      <td>1477</td>\n",
              "      <td>41933599</td>\n",
              "      <td>Shared room</td>\n",
              "      <td>NaN</td>\n",
              "      <td>Barcelona</td>\n",
              "      <td>NaN</td>\n",
              "      <td>Eixample</td>\n",
              "      <td>0</td>\n",
              "      <td>0.0</td>\n",
              "      <td>5</td>\n",
              "      <td>1.0</td>\n",
              "      <td>NaN</td>\n",
              "      <td>211.0</td>\n",
              "      <td>NaN</td>\n",
              "      <td>5-bed mixed dorm at Sleep Green Y.H</td>\n",
              "      <td>2017-07-28 14:49:29.434152</td>\n",
              "      <td>41.387023</td>\n",
              "      <td>2.167047</td>\n",
              "      <td>0101000020E6100000C828CFBC1C56014060E63BF889B1...</td>\n",
              "    </tr>\n",
              "    <tr>\n",
              "      <th>1</th>\n",
              "      <td>12331935</td>\n",
              "      <td>1477</td>\n",
              "      <td>41933599</td>\n",
              "      <td>Shared room</td>\n",
              "      <td>NaN</td>\n",
              "      <td>Barcelona</td>\n",
              "      <td>NaN</td>\n",
              "      <td>Eixample</td>\n",
              "      <td>0</td>\n",
              "      <td>0.0</td>\n",
              "      <td>6</td>\n",
              "      <td>1.0</td>\n",
              "      <td>NaN</td>\n",
              "      <td>253.0</td>\n",
              "      <td>NaN</td>\n",
              "      <td>6-bed mixed dorm at Sleep Green Y.H</td>\n",
              "      <td>2017-07-28 14:49:29.431042</td>\n",
              "      <td>41.387658</td>\n",
              "      <td>2.167093</td>\n",
              "      <td>0101000020E6100000CD1FD3DA34560140320400C79EB1...</td>\n",
              "    </tr>\n",
              "    <tr>\n",
              "      <th>2</th>\n",
              "      <td>12332051</td>\n",
              "      <td>1477</td>\n",
              "      <td>41933599</td>\n",
              "      <td>Shared room</td>\n",
              "      <td>NaN</td>\n",
              "      <td>Barcelona</td>\n",
              "      <td>NaN</td>\n",
              "      <td>Eixample</td>\n",
              "      <td>0</td>\n",
              "      <td>0.0</td>\n",
              "      <td>8</td>\n",
              "      <td>1.0</td>\n",
              "      <td>NaN</td>\n",
              "      <td>289.0</td>\n",
              "      <td>NaN</td>\n",
              "      <td>8-bed mixed dorm at ACYHostel</td>\n",
              "      <td>2017-07-28 14:49:29.427665</td>\n",
              "      <td>41.387962</td>\n",
              "      <td>2.165981</td>\n",
              "      <td>0101000020E61000001B0FB6D8ED5301409E0B23BDA8B1...</td>\n",
              "    </tr>\n",
              "    <tr>\n",
              "      <th>3</th>\n",
              "      <td>4627938</td>\n",
              "      <td>1477</td>\n",
              "      <td>23968212</td>\n",
              "      <td>Shared room</td>\n",
              "      <td>NaN</td>\n",
              "      <td>Barcelona</td>\n",
              "      <td>NaN</td>\n",
              "      <td>Eixample</td>\n",
              "      <td>27</td>\n",
              "      <td>4.5</td>\n",
              "      <td>10</td>\n",
              "      <td>1.0</td>\n",
              "      <td>NaN</td>\n",
              "      <td>264.0</td>\n",
              "      <td>NaN</td>\n",
              "      <td>THE HIPSTEL hostel 1 BED IN DORM-10 Shared WC</td>\n",
              "      <td>2017-07-28 14:49:29.424265</td>\n",
              "      <td>41.391617</td>\n",
              "      <td>2.162516</td>\n",
              "      <td>0101000020E6100000289D4830D54C014060C77F8120B2...</td>\n",
              "    </tr>\n",
              "    <tr>\n",
              "      <th>4</th>\n",
              "      <td>12331497</td>\n",
              "      <td>1477</td>\n",
              "      <td>41933599</td>\n",
              "      <td>Shared room</td>\n",
              "      <td>NaN</td>\n",
              "      <td>Barcelona</td>\n",
              "      <td>NaN</td>\n",
              "      <td>Eixample</td>\n",
              "      <td>0</td>\n",
              "      <td>0.0</td>\n",
              "      <td>4</td>\n",
              "      <td>1.0</td>\n",
              "      <td>NaN</td>\n",
              "      <td>169.0</td>\n",
              "      <td>NaN</td>\n",
              "      <td>4-bed mixed dorm at Sleep Green Y.H</td>\n",
              "      <td>2017-07-28 14:49:25.542467</td>\n",
              "      <td>41.386288</td>\n",
              "      <td>2.165477</td>\n",
              "      <td>0101000020E6100000EAEBF99AE55201402B6B9BE271B1...</td>\n",
              "    </tr>\n",
              "  </tbody>\n",
              "</table>\n",
              "</div>"
            ],
            "text/plain": [
              "    room_id  ...                                           location\n",
              "0  12331794  ...  0101000020E6100000C828CFBC1C56014060E63BF889B1...\n",
              "1  12331935  ...  0101000020E6100000CD1FD3DA34560140320400C79EB1...\n",
              "2  12332051  ...  0101000020E61000001B0FB6D8ED5301409E0B23BDA8B1...\n",
              "3   4627938  ...  0101000020E6100000289D4830D54C014060C77F8120B2...\n",
              "4  12331497  ...  0101000020E6100000EAEBF99AE55201402B6B9BE271B1...\n",
              "\n",
              "[5 rows x 20 columns]"
            ]
          },
          "metadata": {
            "tags": []
          },
          "execution_count": 20
        }
      ]
    },
    {
      "cell_type": "code",
      "metadata": {
        "id": "dHe-uYGvULxz",
        "colab_type": "code",
        "colab": {
          "base_uri": "https://localhost:8080/",
          "height": 49
        },
        "outputId": "b95851c1-d1db-40f7-97ae-eb0477ef51a2"
      },
      "source": [
        "ids = df1[\"room_id\"]\n",
        "\n",
        "#so there are no duplicates in roomid\n",
        "df1[ids.isin(ids[ids.duplicated()])].sort_values(\"room_id\")"
      ],
      "execution_count": 22,
      "outputs": [
        {
          "output_type": "execute_result",
          "data": {
            "text/html": [
              "<div>\n",
              "<style scoped>\n",
              "    .dataframe tbody tr th:only-of-type {\n",
              "        vertical-align: middle;\n",
              "    }\n",
              "\n",
              "    .dataframe tbody tr th {\n",
              "        vertical-align: top;\n",
              "    }\n",
              "\n",
              "    .dataframe thead th {\n",
              "        text-align: right;\n",
              "    }\n",
              "</style>\n",
              "<table border=\"1\" class=\"dataframe\">\n",
              "  <thead>\n",
              "    <tr style=\"text-align: right;\">\n",
              "      <th></th>\n",
              "      <th>room_id</th>\n",
              "      <th>survey_id</th>\n",
              "      <th>host_id</th>\n",
              "      <th>room_type</th>\n",
              "      <th>country</th>\n",
              "      <th>city</th>\n",
              "      <th>borough</th>\n",
              "      <th>neighborhood</th>\n",
              "      <th>reviews</th>\n",
              "      <th>overall_satisfaction</th>\n",
              "      <th>accommodates</th>\n",
              "      <th>bedrooms</th>\n",
              "      <th>bathrooms</th>\n",
              "      <th>price</th>\n",
              "      <th>minstay</th>\n",
              "      <th>name</th>\n",
              "      <th>last_modified</th>\n",
              "      <th>latitude</th>\n",
              "      <th>longitude</th>\n",
              "      <th>location</th>\n",
              "    </tr>\n",
              "  </thead>\n",
              "  <tbody>\n",
              "  </tbody>\n",
              "</table>\n",
              "</div>"
            ],
            "text/plain": [
              "Empty DataFrame\n",
              "Columns: [room_id, survey_id, host_id, room_type, country, city, borough, neighborhood, reviews, overall_satisfaction, accommodates, bedrooms, bathrooms, price, minstay, name, last_modified, latitude, longitude, location]\n",
              "Index: []"
            ]
          },
          "metadata": {
            "tags": []
          },
          "execution_count": 22
        }
      ]
    },
    {
      "cell_type": "code",
      "metadata": {
        "id": "cmVd4YDRUyUP",
        "colab_type": "code",
        "colab": {
          "base_uri": "https://localhost:8080/",
          "height": 34
        },
        "outputId": "8efa48ec-02ba-420b-97d6-f1d7bd805f9a"
      },
      "source": [
        "ids = df1[\"host_id\"]\n",
        "\n",
        "#so there are \n",
        "df1[ids.isin(ids[ids.duplicated()])].sort_values(\"host_id\").shape            #there are repeats with respect to the host Id so we will be using it and creating "
      ],
      "execution_count": 26,
      "outputs": [
        {
          "output_type": "execute_result",
          "data": {
            "text/plain": [
              "(10586, 20)"
            ]
          },
          "metadata": {
            "tags": []
          },
          "execution_count": 26
        }
      ]
    },
    {
      "cell_type": "code",
      "metadata": {
        "id": "K9urJT3Hfhkr",
        "colab_type": "code",
        "colab": {
          "base_uri": "https://localhost:8080/",
          "height": 34
        },
        "outputId": "288a65b8-104d-4202-9e33-2947f5c7f563"
      },
      "source": [
        "df1.shape"
      ],
      "execution_count": 25,
      "outputs": [
        {
          "output_type": "execute_result",
          "data": {
            "text/plain": [
              "(18838, 20)"
            ]
          },
          "metadata": {
            "tags": []
          },
          "execution_count": 25
        }
      ]
    },
    {
      "cell_type": "code",
      "metadata": {
        "id": "JzG9I7dffnm1",
        "colab_type": "code",
        "colab": {
          "base_uri": "https://localhost:8080/",
          "height": 202
        },
        "outputId": "872b0c4f-bf77-458d-ef30-9431a9d77667"
      },
      "source": [
        "df3.head()"
      ],
      "execution_count": 28,
      "outputs": [
        {
          "output_type": "execute_result",
          "data": {
            "text/html": [
              "<div>\n",
              "<style scoped>\n",
              "    .dataframe tbody tr th:only-of-type {\n",
              "        vertical-align: middle;\n",
              "    }\n",
              "\n",
              "    .dataframe tbody tr th {\n",
              "        vertical-align: top;\n",
              "    }\n",
              "\n",
              "    .dataframe thead th {\n",
              "        text-align: right;\n",
              "    }\n",
              "</style>\n",
              "<table border=\"1\" class=\"dataframe\">\n",
              "  <thead>\n",
              "    <tr style=\"text-align: right;\">\n",
              "      <th></th>\n",
              "      <th>0</th>\n",
              "      <th>room_type</th>\n",
              "      <th>neighborhood</th>\n",
              "      <th>overall_satisfaction</th>\n",
              "      <th>accommodates</th>\n",
              "      <th>bedrooms</th>\n",
              "      <th>price</th>\n",
              "      <th>latitude</th>\n",
              "      <th>longitude</th>\n",
              "    </tr>\n",
              "  </thead>\n",
              "  <tbody>\n",
              "    <tr>\n",
              "      <th>0</th>\n",
              "      <td>poco visitado</td>\n",
              "      <td>Shared room</td>\n",
              "      <td>Eixample</td>\n",
              "      <td>4.5</td>\n",
              "      <td>10</td>\n",
              "      <td>1.0</td>\n",
              "      <td>264.0</td>\n",
              "      <td>41.391617</td>\n",
              "      <td>2.162516</td>\n",
              "    </tr>\n",
              "    <tr>\n",
              "      <th>1</th>\n",
              "      <td>poco visitado</td>\n",
              "      <td>Shared room</td>\n",
              "      <td>Sants-Montjuïc</td>\n",
              "      <td>4.0</td>\n",
              "      <td>12</td>\n",
              "      <td>1.0</td>\n",
              "      <td>129.0</td>\n",
              "      <td>41.373268</td>\n",
              "      <td>2.170138</td>\n",
              "    </tr>\n",
              "    <tr>\n",
              "      <th>2</th>\n",
              "      <td>poco visitado</td>\n",
              "      <td>Shared room</td>\n",
              "      <td>Sants-Montjuïc</td>\n",
              "      <td>4.0</td>\n",
              "      <td>12</td>\n",
              "      <td>1.0</td>\n",
              "      <td>129.0</td>\n",
              "      <td>41.372360</td>\n",
              "      <td>2.169215</td>\n",
              "    </tr>\n",
              "    <tr>\n",
              "      <th>3</th>\n",
              "      <td>poco visitado</td>\n",
              "      <td>Shared room</td>\n",
              "      <td>Eixample</td>\n",
              "      <td>5.0</td>\n",
              "      <td>2</td>\n",
              "      <td>1.0</td>\n",
              "      <td>72.0</td>\n",
              "      <td>41.391836</td>\n",
              "      <td>2.154014</td>\n",
              "    </tr>\n",
              "    <tr>\n",
              "      <th>4</th>\n",
              "      <td>poco visitado</td>\n",
              "      <td>Shared room</td>\n",
              "      <td>Eixample</td>\n",
              "      <td>5.0</td>\n",
              "      <td>2</td>\n",
              "      <td>1.0</td>\n",
              "      <td>64.0</td>\n",
              "      <td>41.387623</td>\n",
              "      <td>2.148761</td>\n",
              "    </tr>\n",
              "  </tbody>\n",
              "</table>\n",
              "</div>"
            ],
            "text/plain": [
              "               0    room_type    neighborhood  ...  price   latitude  longitude\n",
              "0  poco visitado  Shared room        Eixample  ...  264.0  41.391617   2.162516\n",
              "1  poco visitado  Shared room  Sants-Montjuïc  ...  129.0  41.373268   2.170138\n",
              "2  poco visitado  Shared room  Sants-Montjuïc  ...  129.0  41.372360   2.169215\n",
              "3  poco visitado  Shared room        Eixample  ...   72.0  41.391836   2.154014\n",
              "4  poco visitado  Shared room        Eixample  ...   64.0  41.387623   2.148761\n",
              "\n",
              "[5 rows x 9 columns]"
            ]
          },
          "metadata": {
            "tags": []
          },
          "execution_count": 28
        }
      ]
    },
    {
      "cell_type": "code",
      "metadata": {
        "id": "wi67CqUGhzhI",
        "colab_type": "code",
        "colab": {
          "base_uri": "https://localhost:8080/",
          "height": 202
        },
        "outputId": "d4487514-fed8-4651-e6de-a9be45ac6f96"
      },
      "source": [
        "df2.head()"
      ],
      "execution_count": 29,
      "outputs": [
        {
          "output_type": "execute_result",
          "data": {
            "text/html": [
              "<div>\n",
              "<style scoped>\n",
              "    .dataframe tbody tr th:only-of-type {\n",
              "        vertical-align: middle;\n",
              "    }\n",
              "\n",
              "    .dataframe tbody tr th {\n",
              "        vertical-align: top;\n",
              "    }\n",
              "\n",
              "    .dataframe thead th {\n",
              "        text-align: right;\n",
              "    }\n",
              "</style>\n",
              "<table border=\"1\" class=\"dataframe\">\n",
              "  <thead>\n",
              "    <tr style=\"text-align: right;\">\n",
              "      <th></th>\n",
              "      <th>room_type</th>\n",
              "      <th>neighborhood</th>\n",
              "      <th>reviews</th>\n",
              "      <th>overall_satisfaction</th>\n",
              "      <th>accommodates</th>\n",
              "      <th>bedrooms</th>\n",
              "      <th>price</th>\n",
              "      <th>latitude</th>\n",
              "      <th>longitude</th>\n",
              "    </tr>\n",
              "  </thead>\n",
              "  <tbody>\n",
              "    <tr>\n",
              "      <th>0</th>\n",
              "      <td>Shared room</td>\n",
              "      <td>Eixample</td>\n",
              "      <td>27</td>\n",
              "      <td>4.5</td>\n",
              "      <td>10</td>\n",
              "      <td>1.0</td>\n",
              "      <td>264.0</td>\n",
              "      <td>41.391617</td>\n",
              "      <td>2.162516</td>\n",
              "    </tr>\n",
              "    <tr>\n",
              "      <th>1</th>\n",
              "      <td>Shared room</td>\n",
              "      <td>Sants-Montjuïc</td>\n",
              "      <td>13</td>\n",
              "      <td>4.0</td>\n",
              "      <td>12</td>\n",
              "      <td>1.0</td>\n",
              "      <td>129.0</td>\n",
              "      <td>41.373268</td>\n",
              "      <td>2.170138</td>\n",
              "    </tr>\n",
              "    <tr>\n",
              "      <th>2</th>\n",
              "      <td>Shared room</td>\n",
              "      <td>Sants-Montjuïc</td>\n",
              "      <td>11</td>\n",
              "      <td>4.0</td>\n",
              "      <td>12</td>\n",
              "      <td>1.0</td>\n",
              "      <td>129.0</td>\n",
              "      <td>41.372360</td>\n",
              "      <td>2.169215</td>\n",
              "    </tr>\n",
              "    <tr>\n",
              "      <th>3</th>\n",
              "      <td>Shared room</td>\n",
              "      <td>Eixample</td>\n",
              "      <td>9</td>\n",
              "      <td>5.0</td>\n",
              "      <td>2</td>\n",
              "      <td>1.0</td>\n",
              "      <td>72.0</td>\n",
              "      <td>41.391836</td>\n",
              "      <td>2.154014</td>\n",
              "    </tr>\n",
              "    <tr>\n",
              "      <th>4</th>\n",
              "      <td>Shared room</td>\n",
              "      <td>Eixample</td>\n",
              "      <td>10</td>\n",
              "      <td>5.0</td>\n",
              "      <td>2</td>\n",
              "      <td>1.0</td>\n",
              "      <td>64.0</td>\n",
              "      <td>41.387623</td>\n",
              "      <td>2.148761</td>\n",
              "    </tr>\n",
              "  </tbody>\n",
              "</table>\n",
              "</div>"
            ],
            "text/plain": [
              "     room_type    neighborhood  reviews  ...  price   latitude  longitude\n",
              "0  Shared room        Eixample       27  ...  264.0  41.391617   2.162516\n",
              "1  Shared room  Sants-Montjuïc       13  ...  129.0  41.373268   2.170138\n",
              "2  Shared room  Sants-Montjuïc       11  ...  129.0  41.372360   2.169215\n",
              "3  Shared room        Eixample        9  ...   72.0  41.391836   2.154014\n",
              "4  Shared room        Eixample       10  ...   64.0  41.387623   2.148761\n",
              "\n",
              "[5 rows x 9 columns]"
            ]
          },
          "metadata": {
            "tags": []
          },
          "execution_count": 29
        }
      ]
    },
    {
      "cell_type": "code",
      "metadata": {
        "id": "tD_yVEuSjSWC",
        "colab_type": "code",
        "colab": {
          "base_uri": "https://localhost:8080/",
          "height": 52
        },
        "outputId": "2345745c-a036-4d32-9853-3c1ffc6c5b5e"
      },
      "source": [
        "print(df2.shape)\n",
        "print(df3.shape)"
      ],
      "execution_count": 34,
      "outputs": [
        {
          "output_type": "stream",
          "text": [
            "(12633, 9)\n",
            "(12633, 9)\n"
          ],
          "name": "stdout"
        }
      ]
    },
    {
      "cell_type": "code",
      "metadata": {
        "id": "4oKqbupziwiV",
        "colab_type": "code",
        "colab": {
          "base_uri": "https://localhost:8080/",
          "height": 202
        },
        "outputId": "f3cd636c-c1de-44ea-9678-ad36c3e2c15e"
      },
      "source": [
        "df3.head()"
      ],
      "execution_count": 30,
      "outputs": [
        {
          "output_type": "execute_result",
          "data": {
            "text/html": [
              "<div>\n",
              "<style scoped>\n",
              "    .dataframe tbody tr th:only-of-type {\n",
              "        vertical-align: middle;\n",
              "    }\n",
              "\n",
              "    .dataframe tbody tr th {\n",
              "        vertical-align: top;\n",
              "    }\n",
              "\n",
              "    .dataframe thead th {\n",
              "        text-align: right;\n",
              "    }\n",
              "</style>\n",
              "<table border=\"1\" class=\"dataframe\">\n",
              "  <thead>\n",
              "    <tr style=\"text-align: right;\">\n",
              "      <th></th>\n",
              "      <th>0</th>\n",
              "      <th>room_type</th>\n",
              "      <th>neighborhood</th>\n",
              "      <th>overall_satisfaction</th>\n",
              "      <th>accommodates</th>\n",
              "      <th>bedrooms</th>\n",
              "      <th>price</th>\n",
              "      <th>latitude</th>\n",
              "      <th>longitude</th>\n",
              "    </tr>\n",
              "  </thead>\n",
              "  <tbody>\n",
              "    <tr>\n",
              "      <th>0</th>\n",
              "      <td>poco visitado</td>\n",
              "      <td>Shared room</td>\n",
              "      <td>Eixample</td>\n",
              "      <td>4.5</td>\n",
              "      <td>10</td>\n",
              "      <td>1.0</td>\n",
              "      <td>264.0</td>\n",
              "      <td>41.391617</td>\n",
              "      <td>2.162516</td>\n",
              "    </tr>\n",
              "    <tr>\n",
              "      <th>1</th>\n",
              "      <td>poco visitado</td>\n",
              "      <td>Shared room</td>\n",
              "      <td>Sants-Montjuïc</td>\n",
              "      <td>4.0</td>\n",
              "      <td>12</td>\n",
              "      <td>1.0</td>\n",
              "      <td>129.0</td>\n",
              "      <td>41.373268</td>\n",
              "      <td>2.170138</td>\n",
              "    </tr>\n",
              "    <tr>\n",
              "      <th>2</th>\n",
              "      <td>poco visitado</td>\n",
              "      <td>Shared room</td>\n",
              "      <td>Sants-Montjuïc</td>\n",
              "      <td>4.0</td>\n",
              "      <td>12</td>\n",
              "      <td>1.0</td>\n",
              "      <td>129.0</td>\n",
              "      <td>41.372360</td>\n",
              "      <td>2.169215</td>\n",
              "    </tr>\n",
              "    <tr>\n",
              "      <th>3</th>\n",
              "      <td>poco visitado</td>\n",
              "      <td>Shared room</td>\n",
              "      <td>Eixample</td>\n",
              "      <td>5.0</td>\n",
              "      <td>2</td>\n",
              "      <td>1.0</td>\n",
              "      <td>72.0</td>\n",
              "      <td>41.391836</td>\n",
              "      <td>2.154014</td>\n",
              "    </tr>\n",
              "    <tr>\n",
              "      <th>4</th>\n",
              "      <td>poco visitado</td>\n",
              "      <td>Shared room</td>\n",
              "      <td>Eixample</td>\n",
              "      <td>5.0</td>\n",
              "      <td>2</td>\n",
              "      <td>1.0</td>\n",
              "      <td>64.0</td>\n",
              "      <td>41.387623</td>\n",
              "      <td>2.148761</td>\n",
              "    </tr>\n",
              "  </tbody>\n",
              "</table>\n",
              "</div>"
            ],
            "text/plain": [
              "               0    room_type    neighborhood  ...  price   latitude  longitude\n",
              "0  poco visitado  Shared room        Eixample  ...  264.0  41.391617   2.162516\n",
              "1  poco visitado  Shared room  Sants-Montjuïc  ...  129.0  41.373268   2.170138\n",
              "2  poco visitado  Shared room  Sants-Montjuïc  ...  129.0  41.372360   2.169215\n",
              "3  poco visitado  Shared room        Eixample  ...   72.0  41.391836   2.154014\n",
              "4  poco visitado  Shared room        Eixample  ...   64.0  41.387623   2.148761\n",
              "\n",
              "[5 rows x 9 columns]"
            ]
          },
          "metadata": {
            "tags": []
          },
          "execution_count": 30
        }
      ]
    },
    {
      "cell_type": "code",
      "metadata": {
        "id": "cwyOt4AOj5lu",
        "colab_type": "code",
        "colab": {
          "base_uri": "https://localhost:8080/",
          "height": 34
        },
        "outputId": "44bdeb62-f9e6-4c13-950b-339c0b002aaa"
      },
      "source": [
        "df3.shape"
      ],
      "execution_count": 42,
      "outputs": [
        {
          "output_type": "execute_result",
          "data": {
            "text/plain": [
              "(12633, 9)"
            ]
          },
          "metadata": {
            "tags": []
          },
          "execution_count": 42
        }
      ]
    },
    {
      "cell_type": "code",
      "metadata": {
        "id": "F_wYNk_FlLWN",
        "colab_type": "code",
        "colab": {}
      },
      "source": [
        "df2['Visit type']=df3['0']"
      ],
      "execution_count": 0,
      "outputs": []
    },
    {
      "cell_type": "code",
      "metadata": {
        "id": "wtJ9inXUnJ0b",
        "colab_type": "code",
        "colab": {
          "base_uri": "https://localhost:8080/",
          "height": 202
        },
        "outputId": "03a9850c-9245-4dc3-8eec-4168be1db234"
      },
      "source": [
        "df2.head()"
      ],
      "execution_count": 43,
      "outputs": [
        {
          "output_type": "execute_result",
          "data": {
            "text/html": [
              "<div>\n",
              "<style scoped>\n",
              "    .dataframe tbody tr th:only-of-type {\n",
              "        vertical-align: middle;\n",
              "    }\n",
              "\n",
              "    .dataframe tbody tr th {\n",
              "        vertical-align: top;\n",
              "    }\n",
              "\n",
              "    .dataframe thead th {\n",
              "        text-align: right;\n",
              "    }\n",
              "</style>\n",
              "<table border=\"1\" class=\"dataframe\">\n",
              "  <thead>\n",
              "    <tr style=\"text-align: right;\">\n",
              "      <th></th>\n",
              "      <th>room_type</th>\n",
              "      <th>neighborhood</th>\n",
              "      <th>reviews</th>\n",
              "      <th>overall_satisfaction</th>\n",
              "      <th>accommodates</th>\n",
              "      <th>bedrooms</th>\n",
              "      <th>price</th>\n",
              "      <th>latitude</th>\n",
              "      <th>longitude</th>\n",
              "      <th>Visit type</th>\n",
              "    </tr>\n",
              "  </thead>\n",
              "  <tbody>\n",
              "    <tr>\n",
              "      <th>0</th>\n",
              "      <td>Shared room</td>\n",
              "      <td>Eixample</td>\n",
              "      <td>27</td>\n",
              "      <td>4.5</td>\n",
              "      <td>10</td>\n",
              "      <td>1.0</td>\n",
              "      <td>264.0</td>\n",
              "      <td>41.391617</td>\n",
              "      <td>2.162516</td>\n",
              "      <td>poco visitado</td>\n",
              "    </tr>\n",
              "    <tr>\n",
              "      <th>1</th>\n",
              "      <td>Shared room</td>\n",
              "      <td>Sants-Montjuïc</td>\n",
              "      <td>13</td>\n",
              "      <td>4.0</td>\n",
              "      <td>12</td>\n",
              "      <td>1.0</td>\n",
              "      <td>129.0</td>\n",
              "      <td>41.373268</td>\n",
              "      <td>2.170138</td>\n",
              "      <td>poco visitado</td>\n",
              "    </tr>\n",
              "    <tr>\n",
              "      <th>2</th>\n",
              "      <td>Shared room</td>\n",
              "      <td>Sants-Montjuïc</td>\n",
              "      <td>11</td>\n",
              "      <td>4.0</td>\n",
              "      <td>12</td>\n",
              "      <td>1.0</td>\n",
              "      <td>129.0</td>\n",
              "      <td>41.372360</td>\n",
              "      <td>2.169215</td>\n",
              "      <td>poco visitado</td>\n",
              "    </tr>\n",
              "    <tr>\n",
              "      <th>3</th>\n",
              "      <td>Shared room</td>\n",
              "      <td>Eixample</td>\n",
              "      <td>9</td>\n",
              "      <td>5.0</td>\n",
              "      <td>2</td>\n",
              "      <td>1.0</td>\n",
              "      <td>72.0</td>\n",
              "      <td>41.391836</td>\n",
              "      <td>2.154014</td>\n",
              "      <td>poco visitado</td>\n",
              "    </tr>\n",
              "    <tr>\n",
              "      <th>4</th>\n",
              "      <td>Shared room</td>\n",
              "      <td>Eixample</td>\n",
              "      <td>10</td>\n",
              "      <td>5.0</td>\n",
              "      <td>2</td>\n",
              "      <td>1.0</td>\n",
              "      <td>64.0</td>\n",
              "      <td>41.387623</td>\n",
              "      <td>2.148761</td>\n",
              "      <td>poco visitado</td>\n",
              "    </tr>\n",
              "  </tbody>\n",
              "</table>\n",
              "</div>"
            ],
            "text/plain": [
              "     room_type    neighborhood  reviews  ...   latitude  longitude     Visit type\n",
              "0  Shared room        Eixample       27  ...  41.391617   2.162516  poco visitado\n",
              "1  Shared room  Sants-Montjuïc       13  ...  41.373268   2.170138  poco visitado\n",
              "2  Shared room  Sants-Montjuïc       11  ...  41.372360   2.169215  poco visitado\n",
              "3  Shared room        Eixample        9  ...  41.391836   2.154014  poco visitado\n",
              "4  Shared room        Eixample       10  ...  41.387623   2.148761  poco visitado\n",
              "\n",
              "[5 rows x 10 columns]"
            ]
          },
          "metadata": {
            "tags": []
          },
          "execution_count": 43
        }
      ]
    },
    {
      "cell_type": "code",
      "metadata": {
        "id": "KfY5f66EnQqx",
        "colab_type": "code",
        "colab": {
          "base_uri": "https://localhost:8080/",
          "height": 34
        },
        "outputId": "9c3bc1cf-c204-49ff-ad60-8141496e87db"
      },
      "source": [
        "df2.shape"
      ],
      "execution_count": 45,
      "outputs": [
        {
          "output_type": "execute_result",
          "data": {
            "text/plain": [
              "(12633, 10)"
            ]
          },
          "metadata": {
            "tags": []
          },
          "execution_count": 45
        }
      ]
    },
    {
      "cell_type": "code",
      "metadata": {
        "id": "ZtO20w07nTTH",
        "colab_type": "code",
        "colab": {
          "base_uri": "https://localhost:8080/",
          "height": 34
        },
        "outputId": "aca6c6bc-9f50-4455-99d2-bc83b5d4106b"
      },
      "source": [
        "df1.shape"
      ],
      "execution_count": 46,
      "outputs": [
        {
          "output_type": "execute_result",
          "data": {
            "text/plain": [
              "(18838, 20)"
            ]
          },
          "metadata": {
            "tags": []
          },
          "execution_count": 46
        }
      ]
    },
    {
      "cell_type": "code",
      "metadata": {
        "id": "saf2TT-Jndfw",
        "colab_type": "code",
        "colab": {
          "base_uri": "https://localhost:8080/",
          "height": 381
        },
        "outputId": "b435e4a3-215d-4de7-e780-0a2f1be73147"
      },
      "source": [
        "df1.isnull().sum()"
      ],
      "execution_count": 47,
      "outputs": [
        {
          "output_type": "execute_result",
          "data": {
            "text/plain": [
              "room_id                     0\n",
              "survey_id                   0\n",
              "host_id                     0\n",
              "room_type                   0\n",
              "country                 18838\n",
              "city                        0\n",
              "borough                 18838\n",
              "neighborhood                0\n",
              "reviews                     0\n",
              "overall_satisfaction        0\n",
              "accommodates                0\n",
              "bedrooms                    0\n",
              "bathrooms               18838\n",
              "price                       0\n",
              "minstay                 18838\n",
              "name                       47\n",
              "last_modified               0\n",
              "latitude                    0\n",
              "longitude                   0\n",
              "location                    0\n",
              "dtype: int64"
            ]
          },
          "metadata": {
            "tags": []
          },
          "execution_count": 47
        }
      ]
    },
    {
      "cell_type": "markdown",
      "metadata": {
        "id": "zEP82pfxon0P",
        "colab_type": "text"
      },
      "source": [
        "The entire column has na values so we will remove columns like 'country','bathrooms','minstay',borough"
      ]
    },
    {
      "cell_type": "code",
      "metadata": {
        "id": "KMG7Lgabo3pd",
        "colab_type": "code",
        "colab": {}
      },
      "source": [
        "df1=df1.drop(columns=['country','bathrooms','minstay','borough'])"
      ],
      "execution_count": 0,
      "outputs": []
    },
    {
      "cell_type": "code",
      "metadata": {
        "id": "dkJNKg70pHVr",
        "colab_type": "code",
        "colab": {}
      },
      "source": [
        "df1[['host_id','name']]                  #this is clear that one host has one group\n",
        "grouped = df1.groupby('name')"
      ],
      "execution_count": 0,
      "outputs": []
    },
    {
      "cell_type": "code",
      "metadata": {
        "id": "XQm2lCnwrIII",
        "colab_type": "code",
        "colab": {
          "base_uri": "https://localhost:8080/",
          "height": 34
        },
        "outputId": "986fa5a5-162b-4f99-86b1-ac16a25a3e8f"
      },
      "source": [
        "df1.shape"
      ],
      "execution_count": 60,
      "outputs": [
        {
          "output_type": "execute_result",
          "data": {
            "text/plain": [
              "(18838, 16)"
            ]
          },
          "metadata": {
            "tags": []
          },
          "execution_count": 60
        }
      ]
    },
    {
      "cell_type": "code",
      "metadata": {
        "id": "o5wD7O8CqDlj",
        "colab_type": "code",
        "colab": {
          "base_uri": "https://localhost:8080/",
          "height": 312
        },
        "outputId": "628706a6-40c0-4ecd-9d15-df433f7a3d66"
      },
      "source": [
        "#grouped.head()\n",
        "df1.isnull().sum()\n",
        "#(47/18838)*100  there are 2% NA values in dataset now , If we impute it and there is even a slight error then we will end up with a problem of false label ... so we will just impute it now"
      ],
      "execution_count": 82,
      "outputs": [
        {
          "output_type": "execute_result",
          "data": {
            "text/plain": [
              "room_id                  0\n",
              "survey_id                0\n",
              "host_id                  0\n",
              "room_type                0\n",
              "city                     0\n",
              "neighborhood             0\n",
              "reviews                  0\n",
              "overall_satisfaction     0\n",
              "accommodates             0\n",
              "bedrooms                 0\n",
              "price                    0\n",
              "name                    47\n",
              "last_modified            0\n",
              "latitude                 0\n",
              "longitude                0\n",
              "location                 0\n",
              "dtype: int64"
            ]
          },
          "metadata": {
            "tags": []
          },
          "execution_count": 82
        }
      ]
    },
    {
      "cell_type": "code",
      "metadata": {
        "id": "LKAvR33TroeK",
        "colab_type": "code",
        "colab": {}
      },
      "source": [
        "df1=df1.dropna()"
      ],
      "execution_count": 0,
      "outputs": []
    },
    {
      "cell_type": "code",
      "metadata": {
        "id": "XcIbu46Hr1co",
        "colab_type": "code",
        "colab": {
          "base_uri": "https://localhost:8080/",
          "height": 34
        },
        "outputId": "96e31dcf-b6d1-4f6b-ab2f-7830b06135f9"
      },
      "source": [
        "df1.shape"
      ],
      "execution_count": 65,
      "outputs": [
        {
          "output_type": "execute_result",
          "data": {
            "text/plain": [
              "(18791, 16)"
            ]
          },
          "metadata": {
            "tags": []
          },
          "execution_count": 65
        }
      ]
    },
    {
      "cell_type": "code",
      "metadata": {
        "id": "f7k0dYrQr7G_",
        "colab_type": "code",
        "colab": {}
      },
      "source": [
        "\n",
        "df1=df1.drop(columns=['location'])    #We drop it as it is not interpretable "
      ],
      "execution_count": 0,
      "outputs": []
    },
    {
      "cell_type": "code",
      "metadata": {
        "id": "tsuzg9KLsmgR",
        "colab_type": "code",
        "colab": {}
      },
      "source": [
        ""
      ],
      "execution_count": 0,
      "outputs": []
    },
    {
      "cell_type": "code",
      "metadata": {
        "id": "CtXmp29YshYK",
        "colab_type": "code",
        "colab": {
          "base_uri": "https://localhost:8080/",
          "height": 86
        },
        "outputId": "74f92201-de17-445a-d360-b5eb2d5b70e6"
      },
      "source": [
        "print(df1.columns)"
      ],
      "execution_count": 73,
      "outputs": [
        {
          "output_type": "stream",
          "text": [
            "Index(['room_id', 'survey_id', 'host_id', 'room_type', 'city', 'neighborhood',\n",
            "       'reviews', 'overall_satisfaction', 'accommodates', 'bedrooms', 'price',\n",
            "       'name', 'last_modified'],\n",
            "      dtype='object')\n"
          ],
          "name": "stdout"
        }
      ]
    },
    {
      "cell_type": "code",
      "metadata": {
        "id": "aS6tDmBDsz9c",
        "colab_type": "code",
        "colab": {}
      },
      "source": [
        "#recommendation 1\n",
        "a=df2['latitude'].unique()"
      ],
      "execution_count": 0,
      "outputs": []
    },
    {
      "cell_type": "code",
      "metadata": {
        "id": "ux-RtCJU0FA4",
        "colab_type": "code",
        "colab": {}
      },
      "source": [
        "b=df1['latitude'].unique()"
      ],
      "execution_count": 0,
      "outputs": []
    },
    {
      "cell_type": "code",
      "metadata": {
        "id": "Lyig85Bz0JcM",
        "colab_type": "code",
        "colab": {
          "base_uri": "https://localhost:8080/",
          "height": 34
        },
        "outputId": "73e68be4-fe6b-4c97-e5bd-a11dd03f0fe9"
      },
      "source": [
        "all(x in a for x in b)     # I was thinking of merging the two data frames but it seems all the values are not present so some columns will have null value and we cant use this approach "
      ],
      "execution_count": 90,
      "outputs": [
        {
          "output_type": "execute_result",
          "data": {
            "text/plain": [
              "False"
            ]
          },
          "metadata": {
            "tags": []
          },
          "execution_count": 90
        }
      ]
    },
    {
      "cell_type": "markdown",
      "metadata": {
        "id": "gce61OOV0w9_",
        "colab_type": "text"
      },
      "source": [
        "So for our recommendation we will use only one dataframe and that is df1 ...The one will max records "
      ]
    },
    {
      "cell_type": "code",
      "metadata": {
        "id": "lGtAQh1t05jr",
        "colab_type": "code",
        "colab": {
          "base_uri": "https://localhost:8080/",
          "height": 289
        },
        "outputId": "c4a1138e-ed4d-4fba-f184-92fea3f06e36"
      },
      "source": [
        "df1.head()"
      ],
      "execution_count": 91,
      "outputs": [
        {
          "output_type": "execute_result",
          "data": {
            "text/html": [
              "<div>\n",
              "<style scoped>\n",
              "    .dataframe tbody tr th:only-of-type {\n",
              "        vertical-align: middle;\n",
              "    }\n",
              "\n",
              "    .dataframe tbody tr th {\n",
              "        vertical-align: top;\n",
              "    }\n",
              "\n",
              "    .dataframe thead th {\n",
              "        text-align: right;\n",
              "    }\n",
              "</style>\n",
              "<table border=\"1\" class=\"dataframe\">\n",
              "  <thead>\n",
              "    <tr style=\"text-align: right;\">\n",
              "      <th></th>\n",
              "      <th>room_id</th>\n",
              "      <th>survey_id</th>\n",
              "      <th>host_id</th>\n",
              "      <th>room_type</th>\n",
              "      <th>city</th>\n",
              "      <th>neighborhood</th>\n",
              "      <th>reviews</th>\n",
              "      <th>overall_satisfaction</th>\n",
              "      <th>accommodates</th>\n",
              "      <th>bedrooms</th>\n",
              "      <th>price</th>\n",
              "      <th>name</th>\n",
              "      <th>last_modified</th>\n",
              "      <th>latitude</th>\n",
              "      <th>longitude</th>\n",
              "    </tr>\n",
              "  </thead>\n",
              "  <tbody>\n",
              "    <tr>\n",
              "      <th>0</th>\n",
              "      <td>12331794</td>\n",
              "      <td>1477</td>\n",
              "      <td>41933599</td>\n",
              "      <td>Shared room</td>\n",
              "      <td>Barcelona</td>\n",
              "      <td>Eixample</td>\n",
              "      <td>0</td>\n",
              "      <td>0.0</td>\n",
              "      <td>5</td>\n",
              "      <td>1.0</td>\n",
              "      <td>211.0</td>\n",
              "      <td>5-bed mixed dorm at Sleep Green Y.H</td>\n",
              "      <td>2017-07-28 14:49:29.434152</td>\n",
              "      <td>41.387023</td>\n",
              "      <td>2.167047</td>\n",
              "    </tr>\n",
              "    <tr>\n",
              "      <th>1</th>\n",
              "      <td>12331935</td>\n",
              "      <td>1477</td>\n",
              "      <td>41933599</td>\n",
              "      <td>Shared room</td>\n",
              "      <td>Barcelona</td>\n",
              "      <td>Eixample</td>\n",
              "      <td>0</td>\n",
              "      <td>0.0</td>\n",
              "      <td>6</td>\n",
              "      <td>1.0</td>\n",
              "      <td>253.0</td>\n",
              "      <td>6-bed mixed dorm at Sleep Green Y.H</td>\n",
              "      <td>2017-07-28 14:49:29.431042</td>\n",
              "      <td>41.387658</td>\n",
              "      <td>2.167093</td>\n",
              "    </tr>\n",
              "    <tr>\n",
              "      <th>2</th>\n",
              "      <td>12332051</td>\n",
              "      <td>1477</td>\n",
              "      <td>41933599</td>\n",
              "      <td>Shared room</td>\n",
              "      <td>Barcelona</td>\n",
              "      <td>Eixample</td>\n",
              "      <td>0</td>\n",
              "      <td>0.0</td>\n",
              "      <td>8</td>\n",
              "      <td>1.0</td>\n",
              "      <td>289.0</td>\n",
              "      <td>8-bed mixed dorm at ACYHostel</td>\n",
              "      <td>2017-07-28 14:49:29.427665</td>\n",
              "      <td>41.387962</td>\n",
              "      <td>2.165981</td>\n",
              "    </tr>\n",
              "    <tr>\n",
              "      <th>3</th>\n",
              "      <td>4627938</td>\n",
              "      <td>1477</td>\n",
              "      <td>23968212</td>\n",
              "      <td>Shared room</td>\n",
              "      <td>Barcelona</td>\n",
              "      <td>Eixample</td>\n",
              "      <td>27</td>\n",
              "      <td>4.5</td>\n",
              "      <td>10</td>\n",
              "      <td>1.0</td>\n",
              "      <td>264.0</td>\n",
              "      <td>THE HIPSTEL hostel 1 BED IN DORM-10 Shared WC</td>\n",
              "      <td>2017-07-28 14:49:29.424265</td>\n",
              "      <td>41.391617</td>\n",
              "      <td>2.162516</td>\n",
              "    </tr>\n",
              "    <tr>\n",
              "      <th>4</th>\n",
              "      <td>12331497</td>\n",
              "      <td>1477</td>\n",
              "      <td>41933599</td>\n",
              "      <td>Shared room</td>\n",
              "      <td>Barcelona</td>\n",
              "      <td>Eixample</td>\n",
              "      <td>0</td>\n",
              "      <td>0.0</td>\n",
              "      <td>4</td>\n",
              "      <td>1.0</td>\n",
              "      <td>169.0</td>\n",
              "      <td>4-bed mixed dorm at Sleep Green Y.H</td>\n",
              "      <td>2017-07-28 14:49:25.542467</td>\n",
              "      <td>41.386288</td>\n",
              "      <td>2.165477</td>\n",
              "    </tr>\n",
              "  </tbody>\n",
              "</table>\n",
              "</div>"
            ],
            "text/plain": [
              "    room_id  survey_id  ...   latitude longitude\n",
              "0  12331794       1477  ...  41.387023  2.167047\n",
              "1  12331935       1477  ...  41.387658  2.167093\n",
              "2  12332051       1477  ...  41.387962  2.165981\n",
              "3   4627938       1477  ...  41.391617  2.162516\n",
              "4  12331497       1477  ...  41.386288  2.165477\n",
              "\n",
              "[5 rows x 15 columns]"
            ]
          },
          "metadata": {
            "tags": []
          },
          "execution_count": 91
        }
      ]
    },
    {
      "cell_type": "code",
      "metadata": {
        "id": "n-ZQvf2O1exB",
        "colab_type": "code",
        "colab": {}
      },
      "source": [
        "df1=df1.drop(columns=['latitude', 'longitude','last_modified','city','survey_id'])"
      ],
      "execution_count": 0,
      "outputs": []
    },
    {
      "cell_type": "code",
      "metadata": {
        "id": "F40c5ZPp1iK9",
        "colab_type": "code",
        "colab": {
          "base_uri": "https://localhost:8080/",
          "height": 220
        },
        "outputId": "7da0d515-98aa-404b-ef01-6d75d7fb55b8"
      },
      "source": [
        "print(df1.shape)\n",
        "df1.head()"
      ],
      "execution_count": 98,
      "outputs": [
        {
          "output_type": "stream",
          "text": [
            "(18791, 12)\n"
          ],
          "name": "stdout"
        },
        {
          "output_type": "execute_result",
          "data": {
            "text/html": [
              "<div>\n",
              "<style scoped>\n",
              "    .dataframe tbody tr th:only-of-type {\n",
              "        vertical-align: middle;\n",
              "    }\n",
              "\n",
              "    .dataframe tbody tr th {\n",
              "        vertical-align: top;\n",
              "    }\n",
              "\n",
              "    .dataframe thead th {\n",
              "        text-align: right;\n",
              "    }\n",
              "</style>\n",
              "<table border=\"1\" class=\"dataframe\">\n",
              "  <thead>\n",
              "    <tr style=\"text-align: right;\">\n",
              "      <th></th>\n",
              "      <th>room_id</th>\n",
              "      <th>survey_id</th>\n",
              "      <th>host_id</th>\n",
              "      <th>room_type</th>\n",
              "      <th>city</th>\n",
              "      <th>neighborhood</th>\n",
              "      <th>reviews</th>\n",
              "      <th>overall_satisfaction</th>\n",
              "      <th>accommodates</th>\n",
              "      <th>bedrooms</th>\n",
              "      <th>price</th>\n",
              "      <th>name</th>\n",
              "    </tr>\n",
              "  </thead>\n",
              "  <tbody>\n",
              "    <tr>\n",
              "      <th>0</th>\n",
              "      <td>12331794</td>\n",
              "      <td>1477</td>\n",
              "      <td>41933599</td>\n",
              "      <td>Shared room</td>\n",
              "      <td>Barcelona</td>\n",
              "      <td>Eixample</td>\n",
              "      <td>0</td>\n",
              "      <td>0.0</td>\n",
              "      <td>5</td>\n",
              "      <td>1.0</td>\n",
              "      <td>211.0</td>\n",
              "      <td>5-bed mixed dorm at Sleep Green Y.H</td>\n",
              "    </tr>\n",
              "    <tr>\n",
              "      <th>1</th>\n",
              "      <td>12331935</td>\n",
              "      <td>1477</td>\n",
              "      <td>41933599</td>\n",
              "      <td>Shared room</td>\n",
              "      <td>Barcelona</td>\n",
              "      <td>Eixample</td>\n",
              "      <td>0</td>\n",
              "      <td>0.0</td>\n",
              "      <td>6</td>\n",
              "      <td>1.0</td>\n",
              "      <td>253.0</td>\n",
              "      <td>6-bed mixed dorm at Sleep Green Y.H</td>\n",
              "    </tr>\n",
              "    <tr>\n",
              "      <th>2</th>\n",
              "      <td>12332051</td>\n",
              "      <td>1477</td>\n",
              "      <td>41933599</td>\n",
              "      <td>Shared room</td>\n",
              "      <td>Barcelona</td>\n",
              "      <td>Eixample</td>\n",
              "      <td>0</td>\n",
              "      <td>0.0</td>\n",
              "      <td>8</td>\n",
              "      <td>1.0</td>\n",
              "      <td>289.0</td>\n",
              "      <td>8-bed mixed dorm at ACYHostel</td>\n",
              "    </tr>\n",
              "    <tr>\n",
              "      <th>3</th>\n",
              "      <td>4627938</td>\n",
              "      <td>1477</td>\n",
              "      <td>23968212</td>\n",
              "      <td>Shared room</td>\n",
              "      <td>Barcelona</td>\n",
              "      <td>Eixample</td>\n",
              "      <td>27</td>\n",
              "      <td>4.5</td>\n",
              "      <td>10</td>\n",
              "      <td>1.0</td>\n",
              "      <td>264.0</td>\n",
              "      <td>THE HIPSTEL hostel 1 BED IN DORM-10 Shared WC</td>\n",
              "    </tr>\n",
              "    <tr>\n",
              "      <th>4</th>\n",
              "      <td>12331497</td>\n",
              "      <td>1477</td>\n",
              "      <td>41933599</td>\n",
              "      <td>Shared room</td>\n",
              "      <td>Barcelona</td>\n",
              "      <td>Eixample</td>\n",
              "      <td>0</td>\n",
              "      <td>0.0</td>\n",
              "      <td>4</td>\n",
              "      <td>1.0</td>\n",
              "      <td>169.0</td>\n",
              "      <td>4-bed mixed dorm at Sleep Green Y.H</td>\n",
              "    </tr>\n",
              "  </tbody>\n",
              "</table>\n",
              "</div>"
            ],
            "text/plain": [
              "    room_id  survey_id  ...  price                                           name\n",
              "0  12331794       1477  ...  211.0            5-bed mixed dorm at Sleep Green Y.H\n",
              "1  12331935       1477  ...  253.0            6-bed mixed dorm at Sleep Green Y.H\n",
              "2  12332051       1477  ...  289.0                  8-bed mixed dorm at ACYHostel\n",
              "3   4627938       1477  ...  264.0  THE HIPSTEL hostel 1 BED IN DORM-10 Shared WC\n",
              "4  12331497       1477  ...  169.0            4-bed mixed dorm at Sleep Green Y.H\n",
              "\n",
              "[5 rows x 12 columns]"
            ]
          },
          "metadata": {
            "tags": []
          },
          "execution_count": 98
        }
      ]
    },
    {
      "cell_type": "code",
      "metadata": {
        "id": "xUQL9ani11xQ",
        "colab_type": "code",
        "colab": {
          "base_uri": "https://localhost:8080/",
          "height": 202
        },
        "outputId": "db856d14-02e1-4c99-e747-c1cc5aa3b55e"
      },
      "source": [
        "df1.loc[df1['reviews']==0].head()    #There are no ratings given for these "
      ],
      "execution_count": 103,
      "outputs": [
        {
          "output_type": "execute_result",
          "data": {
            "text/html": [
              "<div>\n",
              "<style scoped>\n",
              "    .dataframe tbody tr th:only-of-type {\n",
              "        vertical-align: middle;\n",
              "    }\n",
              "\n",
              "    .dataframe tbody tr th {\n",
              "        vertical-align: top;\n",
              "    }\n",
              "\n",
              "    .dataframe thead th {\n",
              "        text-align: right;\n",
              "    }\n",
              "</style>\n",
              "<table border=\"1\" class=\"dataframe\">\n",
              "  <thead>\n",
              "    <tr style=\"text-align: right;\">\n",
              "      <th></th>\n",
              "      <th>room_id</th>\n",
              "      <th>survey_id</th>\n",
              "      <th>host_id</th>\n",
              "      <th>room_type</th>\n",
              "      <th>city</th>\n",
              "      <th>neighborhood</th>\n",
              "      <th>reviews</th>\n",
              "      <th>overall_satisfaction</th>\n",
              "      <th>accommodates</th>\n",
              "      <th>bedrooms</th>\n",
              "      <th>price</th>\n",
              "      <th>name</th>\n",
              "    </tr>\n",
              "  </thead>\n",
              "  <tbody>\n",
              "    <tr>\n",
              "      <th>0</th>\n",
              "      <td>12331794</td>\n",
              "      <td>1477</td>\n",
              "      <td>41933599</td>\n",
              "      <td>Shared room</td>\n",
              "      <td>Barcelona</td>\n",
              "      <td>Eixample</td>\n",
              "      <td>0</td>\n",
              "      <td>0.0</td>\n",
              "      <td>5</td>\n",
              "      <td>1.0</td>\n",
              "      <td>211.0</td>\n",
              "      <td>5-bed mixed dorm at Sleep Green Y.H</td>\n",
              "    </tr>\n",
              "    <tr>\n",
              "      <th>1</th>\n",
              "      <td>12331935</td>\n",
              "      <td>1477</td>\n",
              "      <td>41933599</td>\n",
              "      <td>Shared room</td>\n",
              "      <td>Barcelona</td>\n",
              "      <td>Eixample</td>\n",
              "      <td>0</td>\n",
              "      <td>0.0</td>\n",
              "      <td>6</td>\n",
              "      <td>1.0</td>\n",
              "      <td>253.0</td>\n",
              "      <td>6-bed mixed dorm at Sleep Green Y.H</td>\n",
              "    </tr>\n",
              "    <tr>\n",
              "      <th>2</th>\n",
              "      <td>12332051</td>\n",
              "      <td>1477</td>\n",
              "      <td>41933599</td>\n",
              "      <td>Shared room</td>\n",
              "      <td>Barcelona</td>\n",
              "      <td>Eixample</td>\n",
              "      <td>0</td>\n",
              "      <td>0.0</td>\n",
              "      <td>8</td>\n",
              "      <td>1.0</td>\n",
              "      <td>289.0</td>\n",
              "      <td>8-bed mixed dorm at ACYHostel</td>\n",
              "    </tr>\n",
              "    <tr>\n",
              "      <th>4</th>\n",
              "      <td>12331497</td>\n",
              "      <td>1477</td>\n",
              "      <td>41933599</td>\n",
              "      <td>Shared room</td>\n",
              "      <td>Barcelona</td>\n",
              "      <td>Eixample</td>\n",
              "      <td>0</td>\n",
              "      <td>0.0</td>\n",
              "      <td>4</td>\n",
              "      <td>1.0</td>\n",
              "      <td>169.0</td>\n",
              "      <td>4-bed mixed dorm at Sleep Green Y.H</td>\n",
              "    </tr>\n",
              "    <tr>\n",
              "      <th>8</th>\n",
              "      <td>16552543</td>\n",
              "      <td>1477</td>\n",
              "      <td>46914366</td>\n",
              "      <td>Shared room</td>\n",
              "      <td>Barcelona</td>\n",
              "      <td>Sants-Montjuïc</td>\n",
              "      <td>0</td>\n",
              "      <td>0.0</td>\n",
              "      <td>9</td>\n",
              "      <td>1.0</td>\n",
              "      <td>73.0</td>\n",
              "      <td>Cama en dormitorio de 9 camas</td>\n",
              "    </tr>\n",
              "  </tbody>\n",
              "</table>\n",
              "</div>"
            ],
            "text/plain": [
              "    room_id  survey_id  ...  price                                 name\n",
              "0  12331794       1477  ...  211.0  5-bed mixed dorm at Sleep Green Y.H\n",
              "1  12331935       1477  ...  253.0  6-bed mixed dorm at Sleep Green Y.H\n",
              "2  12332051       1477  ...  289.0        8-bed mixed dorm at ACYHostel\n",
              "4  12331497       1477  ...  169.0  4-bed mixed dorm at Sleep Green Y.H\n",
              "8  16552543       1477  ...   73.0        Cama en dormitorio de 9 camas\n",
              "\n",
              "[5 rows x 12 columns]"
            ]
          },
          "metadata": {
            "tags": []
          },
          "execution_count": 103
        }
      ]
    },
    {
      "cell_type": "markdown",
      "metadata": {
        "id": "_cZOEgAI2oPU",
        "colab_type": "text"
      },
      "source": [
        "#Reason can be new property "
      ]
    },
    {
      "cell_type": "code",
      "metadata": {
        "id": "scloGUU93NF7",
        "colab_type": "code",
        "colab": {}
      },
      "source": [
        "#j=df1.groupby([ 'neighborhood','city'])"
      ],
      "execution_count": 0,
      "outputs": []
    },
    {
      "cell_type": "code",
      "metadata": {
        "id": "XjVQPF1_6EvP",
        "colab_type": "code",
        "colab": {
          "base_uri": "https://localhost:8080/",
          "height": 294
        },
        "outputId": "286599c3-3093-4cf1-ddfa-cb6758e8f1bb"
      },
      "source": [
        "df1.describe()"
      ],
      "execution_count": 122,
      "outputs": [
        {
          "output_type": "execute_result",
          "data": {
            "text/html": [
              "<div>\n",
              "<style scoped>\n",
              "    .dataframe tbody tr th:only-of-type {\n",
              "        vertical-align: middle;\n",
              "    }\n",
              "\n",
              "    .dataframe tbody tr th {\n",
              "        vertical-align: top;\n",
              "    }\n",
              "\n",
              "    .dataframe thead th {\n",
              "        text-align: right;\n",
              "    }\n",
              "</style>\n",
              "<table border=\"1\" class=\"dataframe\">\n",
              "  <thead>\n",
              "    <tr style=\"text-align: right;\">\n",
              "      <th></th>\n",
              "      <th>room_id</th>\n",
              "      <th>survey_id</th>\n",
              "      <th>host_id</th>\n",
              "      <th>reviews</th>\n",
              "      <th>overall_satisfaction</th>\n",
              "      <th>accommodates</th>\n",
              "      <th>bedrooms</th>\n",
              "      <th>price</th>\n",
              "    </tr>\n",
              "  </thead>\n",
              "  <tbody>\n",
              "    <tr>\n",
              "      <th>count</th>\n",
              "      <td>1.879100e+04</td>\n",
              "      <td>18791.0</td>\n",
              "      <td>1.879100e+04</td>\n",
              "      <td>18791.000000</td>\n",
              "      <td>18791.000000</td>\n",
              "      <td>18791.000000</td>\n",
              "      <td>18791.000000</td>\n",
              "      <td>18791.000000</td>\n",
              "    </tr>\n",
              "    <tr>\n",
              "      <th>mean</th>\n",
              "      <td>1.158755e+07</td>\n",
              "      <td>1477.0</td>\n",
              "      <td>4.161650e+07</td>\n",
              "      <td>24.754138</td>\n",
              "      <td>3.061279</td>\n",
              "      <td>3.320153</td>\n",
              "      <td>1.521579</td>\n",
              "      <td>110.332606</td>\n",
              "    </tr>\n",
              "    <tr>\n",
              "      <th>std</th>\n",
              "      <td>6.558332e+06</td>\n",
              "      <td>0.0</td>\n",
              "      <td>4.392178e+07</td>\n",
              "      <td>39.700983</td>\n",
              "      <td>2.168264</td>\n",
              "      <td>2.202857</td>\n",
              "      <td>0.971466</td>\n",
              "      <td>118.435850</td>\n",
              "    </tr>\n",
              "    <tr>\n",
              "      <th>min</th>\n",
              "      <td>1.119400e+04</td>\n",
              "      <td>1477.0</td>\n",
              "      <td>1.007700e+04</td>\n",
              "      <td>0.000000</td>\n",
              "      <td>0.000000</td>\n",
              "      <td>1.000000</td>\n",
              "      <td>0.000000</td>\n",
              "      <td>10.000000</td>\n",
              "    </tr>\n",
              "    <tr>\n",
              "      <th>25%</th>\n",
              "      <td>5.612328e+06</td>\n",
              "      <td>1477.0</td>\n",
              "      <td>6.099660e+06</td>\n",
              "      <td>1.000000</td>\n",
              "      <td>0.000000</td>\n",
              "      <td>2.000000</td>\n",
              "      <td>1.000000</td>\n",
              "      <td>48.000000</td>\n",
              "    </tr>\n",
              "    <tr>\n",
              "      <th>50%</th>\n",
              "      <td>1.306139e+07</td>\n",
              "      <td>1477.0</td>\n",
              "      <td>2.273165e+07</td>\n",
              "      <td>8.000000</td>\n",
              "      <td>4.500000</td>\n",
              "      <td>2.000000</td>\n",
              "      <td>1.000000</td>\n",
              "      <td>78.000000</td>\n",
              "    </tr>\n",
              "    <tr>\n",
              "      <th>75%</th>\n",
              "      <td>1.789919e+07</td>\n",
              "      <td>1477.0</td>\n",
              "      <td>6.756417e+07</td>\n",
              "      <td>31.000000</td>\n",
              "      <td>4.500000</td>\n",
              "      <td>4.000000</td>\n",
              "      <td>2.000000</td>\n",
              "      <td>136.000000</td>\n",
              "    </tr>\n",
              "    <tr>\n",
              "      <th>max</th>\n",
              "      <td>2.009710e+07</td>\n",
              "      <td>1477.0</td>\n",
              "      <td>1.428879e+08</td>\n",
              "      <td>457.000000</td>\n",
              "      <td>5.000000</td>\n",
              "      <td>16.000000</td>\n",
              "      <td>10.000000</td>\n",
              "      <td>3606.000000</td>\n",
              "    </tr>\n",
              "  </tbody>\n",
              "</table>\n",
              "</div>"
            ],
            "text/plain": [
              "            room_id  survey_id  ...      bedrooms         price\n",
              "count  1.879100e+04    18791.0  ...  18791.000000  18791.000000\n",
              "mean   1.158755e+07     1477.0  ...      1.521579    110.332606\n",
              "std    6.558332e+06        0.0  ...      0.971466    118.435850\n",
              "min    1.119400e+04     1477.0  ...      0.000000     10.000000\n",
              "25%    5.612328e+06     1477.0  ...      1.000000     48.000000\n",
              "50%    1.306139e+07     1477.0  ...      1.000000     78.000000\n",
              "75%    1.789919e+07     1477.0  ...      2.000000    136.000000\n",
              "max    2.009710e+07     1477.0  ...     10.000000   3606.000000\n",
              "\n",
              "[8 rows x 8 columns]"
            ]
          },
          "metadata": {
            "tags": []
          },
          "execution_count": 122
        }
      ]
    },
    {
      "cell_type": "markdown",
      "metadata": {
        "id": "UOvIzpbA8V48",
        "colab_type": "text"
      },
      "source": [
        ""
      ]
    },
    {
      "cell_type": "code",
      "metadata": {
        "id": "OUCInv4f__7W",
        "colab_type": "code",
        "colab": {}
      },
      "source": [
        "dfnew=df1.loc[df1['reviews'] == 0].head()   #these are those properties on whom the rating info is not used so we will drop it from this dataframe but store in another "
      ],
      "execution_count": 0,
      "outputs": []
    },
    {
      "cell_type": "code",
      "metadata": {
        "id": "nuFbyuYcAeI6",
        "colab_type": "code",
        "colab": {
          "base_uri": "https://localhost:8080/",
          "height": 202
        },
        "outputId": "ed183df2-ddd0-4e27-c304-1cffb28f0dbb"
      },
      "source": [
        "dfnew.head()"
      ],
      "execution_count": 19,
      "outputs": [
        {
          "output_type": "execute_result",
          "data": {
            "text/html": [
              "<div>\n",
              "<style scoped>\n",
              "    .dataframe tbody tr th:only-of-type {\n",
              "        vertical-align: middle;\n",
              "    }\n",
              "\n",
              "    .dataframe tbody tr th {\n",
              "        vertical-align: top;\n",
              "    }\n",
              "\n",
              "    .dataframe thead th {\n",
              "        text-align: right;\n",
              "    }\n",
              "</style>\n",
              "<table border=\"1\" class=\"dataframe\">\n",
              "  <thead>\n",
              "    <tr style=\"text-align: right;\">\n",
              "      <th></th>\n",
              "      <th>room_id</th>\n",
              "      <th>survey_id</th>\n",
              "      <th>host_id</th>\n",
              "      <th>room_type</th>\n",
              "      <th>city</th>\n",
              "      <th>neighborhood</th>\n",
              "      <th>reviews</th>\n",
              "      <th>overall_satisfaction</th>\n",
              "      <th>accommodates</th>\n",
              "      <th>bedrooms</th>\n",
              "      <th>price</th>\n",
              "      <th>name</th>\n",
              "    </tr>\n",
              "  </thead>\n",
              "  <tbody>\n",
              "    <tr>\n",
              "      <th>0</th>\n",
              "      <td>12331794</td>\n",
              "      <td>1477</td>\n",
              "      <td>41933599</td>\n",
              "      <td>Shared room</td>\n",
              "      <td>Barcelona</td>\n",
              "      <td>Eixample</td>\n",
              "      <td>0</td>\n",
              "      <td>0.0</td>\n",
              "      <td>5</td>\n",
              "      <td>1.0</td>\n",
              "      <td>211.0</td>\n",
              "      <td>5-bed mixed dorm at Sleep Green Y.H</td>\n",
              "    </tr>\n",
              "    <tr>\n",
              "      <th>1</th>\n",
              "      <td>12331935</td>\n",
              "      <td>1477</td>\n",
              "      <td>41933599</td>\n",
              "      <td>Shared room</td>\n",
              "      <td>Barcelona</td>\n",
              "      <td>Eixample</td>\n",
              "      <td>0</td>\n",
              "      <td>0.0</td>\n",
              "      <td>6</td>\n",
              "      <td>1.0</td>\n",
              "      <td>253.0</td>\n",
              "      <td>6-bed mixed dorm at Sleep Green Y.H</td>\n",
              "    </tr>\n",
              "    <tr>\n",
              "      <th>2</th>\n",
              "      <td>12332051</td>\n",
              "      <td>1477</td>\n",
              "      <td>41933599</td>\n",
              "      <td>Shared room</td>\n",
              "      <td>Barcelona</td>\n",
              "      <td>Eixample</td>\n",
              "      <td>0</td>\n",
              "      <td>0.0</td>\n",
              "      <td>8</td>\n",
              "      <td>1.0</td>\n",
              "      <td>289.0</td>\n",
              "      <td>8-bed mixed dorm at ACYHostel</td>\n",
              "    </tr>\n",
              "    <tr>\n",
              "      <th>4</th>\n",
              "      <td>12331497</td>\n",
              "      <td>1477</td>\n",
              "      <td>41933599</td>\n",
              "      <td>Shared room</td>\n",
              "      <td>Barcelona</td>\n",
              "      <td>Eixample</td>\n",
              "      <td>0</td>\n",
              "      <td>0.0</td>\n",
              "      <td>4</td>\n",
              "      <td>1.0</td>\n",
              "      <td>169.0</td>\n",
              "      <td>4-bed mixed dorm at Sleep Green Y.H</td>\n",
              "    </tr>\n",
              "    <tr>\n",
              "      <th>8</th>\n",
              "      <td>16552543</td>\n",
              "      <td>1477</td>\n",
              "      <td>46914366</td>\n",
              "      <td>Shared room</td>\n",
              "      <td>Barcelona</td>\n",
              "      <td>Sants-Montjuïc</td>\n",
              "      <td>0</td>\n",
              "      <td>0.0</td>\n",
              "      <td>9</td>\n",
              "      <td>1.0</td>\n",
              "      <td>73.0</td>\n",
              "      <td>Cama en dormitorio de 9 camas</td>\n",
              "    </tr>\n",
              "  </tbody>\n",
              "</table>\n",
              "</div>"
            ],
            "text/plain": [
              "    room_id  survey_id  ...  price                                 name\n",
              "0  12331794       1477  ...  211.0  5-bed mixed dorm at Sleep Green Y.H\n",
              "1  12331935       1477  ...  253.0  6-bed mixed dorm at Sleep Green Y.H\n",
              "2  12332051       1477  ...  289.0        8-bed mixed dorm at ACYHostel\n",
              "4  12331497       1477  ...  169.0  4-bed mixed dorm at Sleep Green Y.H\n",
              "8  16552543       1477  ...   73.0        Cama en dormitorio de 9 camas\n",
              "\n",
              "[5 rows x 12 columns]"
            ]
          },
          "metadata": {
            "tags": []
          },
          "execution_count": 19
        }
      ]
    },
    {
      "cell_type": "code",
      "metadata": {
        "id": "DfduB_g9BOYj",
        "colab_type": "code",
        "colab": {}
      },
      "source": [
        "df1.drop(df1.loc[df1['reviews']==0].index, inplace=True)"
      ],
      "execution_count": 0,
      "outputs": []
    },
    {
      "cell_type": "code",
      "metadata": {
        "id": "fmzKvUKjCD5j",
        "colab_type": "code",
        "colab": {
          "base_uri": "https://localhost:8080/",
          "height": 49
        },
        "outputId": "5b6a797a-cb6a-4f69-d623-602c5860404f"
      },
      "source": [
        "df1.loc[df1['reviews']==0]"
      ],
      "execution_count": 17,
      "outputs": [
        {
          "output_type": "execute_result",
          "data": {
            "text/html": [
              "<div>\n",
              "<style scoped>\n",
              "    .dataframe tbody tr th:only-of-type {\n",
              "        vertical-align: middle;\n",
              "    }\n",
              "\n",
              "    .dataframe tbody tr th {\n",
              "        vertical-align: top;\n",
              "    }\n",
              "\n",
              "    .dataframe thead th {\n",
              "        text-align: right;\n",
              "    }\n",
              "</style>\n",
              "<table border=\"1\" class=\"dataframe\">\n",
              "  <thead>\n",
              "    <tr style=\"text-align: right;\">\n",
              "      <th></th>\n",
              "      <th>room_id</th>\n",
              "      <th>survey_id</th>\n",
              "      <th>host_id</th>\n",
              "      <th>room_type</th>\n",
              "      <th>city</th>\n",
              "      <th>neighborhood</th>\n",
              "      <th>reviews</th>\n",
              "      <th>overall_satisfaction</th>\n",
              "      <th>accommodates</th>\n",
              "      <th>bedrooms</th>\n",
              "      <th>price</th>\n",
              "      <th>name</th>\n",
              "    </tr>\n",
              "  </thead>\n",
              "  <tbody>\n",
              "  </tbody>\n",
              "</table>\n",
              "</div>"
            ],
            "text/plain": [
              "Empty DataFrame\n",
              "Columns: [room_id, survey_id, host_id, room_type, city, neighborhood, reviews, overall_satisfaction, accommodates, bedrooms, price, name]\n",
              "Index: []"
            ]
          },
          "metadata": {
            "tags": []
          },
          "execution_count": 17
        }
      ]
    },
    {
      "cell_type": "code",
      "metadata": {
        "id": "mUoBMzisClUA",
        "colab_type": "code",
        "colab": {
          "base_uri": "https://localhost:8080/",
          "height": 208
        },
        "outputId": "f9b22ba0-14ed-4090-bfae-27b266e324d7"
      },
      "source": [
        "df1['neighborhood'].value_counts()"
      ],
      "execution_count": 36,
      "outputs": [
        {
          "output_type": "execute_result",
          "data": {
            "text/plain": [
              "Eixample               5102\n",
              "Ciutat Vella           3215\n",
              "Sants-Montjuïc         1812\n",
              "Sant Martí             1763\n",
              "Gràcia                 1450\n",
              "Sarrià-Sant Gervasi     562\n",
              "Horta-Guinardó          518\n",
              "Les Corts               294\n",
              "Sant Andreu             250\n",
              "Nou Barris              199\n",
              "Name: neighborhood, dtype: int64"
            ]
          },
          "metadata": {
            "tags": []
          },
          "execution_count": 36
        }
      ]
    },
    {
      "cell_type": "markdown",
      "metadata": {
        "id": "qB4cs8nIYtiR",
        "colab_type": "text"
      },
      "source": [
        "#Visualization "
      ]
    },
    {
      "cell_type": "code",
      "metadata": {
        "id": "MBPGaBdjDwB6",
        "colab_type": "code",
        "colab": {
          "base_uri": "https://localhost:8080/",
          "height": 301
        },
        "outputId": "cf0d0480-7907-44d0-e572-d6868276c52f"
      },
      "source": [
        "sns.countplot(y=df1['neighborhood'],data=df1, palette=\"Greens_d\",\n",
        "              order=df1['neighborhood'].value_counts().iloc[:10].index)                     #top 10 popular neighborhood .."
      ],
      "execution_count": 37,
      "outputs": [
        {
          "output_type": "execute_result",
          "data": {
            "text/plain": [
              "<matplotlib.axes._subplots.AxesSubplot at 0x7f87d2154c50>"
            ]
          },
          "metadata": {
            "tags": []
          },
          "execution_count": 37
        },
        {
          "output_type": "display_data",
          "data": {
            "image/png": "[encoded data removed]",
            "text/plain": [
              "<Figure size 432x288 with 1 Axes>"
            ]
          },
          "metadata": {
            "tags": []
          }
        }
      ]
    },
    {
      "cell_type": "code",
      "metadata": {
        "id": "2RcKhL4wYysQ",
        "colab_type": "code",
        "colab": {
          "base_uri": "https://localhost:8080/",
          "height": 202
        },
        "outputId": "6b91b208-6454-4bcd-8d41-4ea7baa5e718"
      },
      "source": [
        "df1.head()"
      ],
      "execution_count": 85,
      "outputs": [
        {
          "output_type": "execute_result",
          "data": {
            "text/html": [
              "<div>\n",
              "<style scoped>\n",
              "    .dataframe tbody tr th:only-of-type {\n",
              "        vertical-align: middle;\n",
              "    }\n",
              "\n",
              "    .dataframe tbody tr th {\n",
              "        vertical-align: top;\n",
              "    }\n",
              "\n",
              "    .dataframe thead th {\n",
              "        text-align: right;\n",
              "    }\n",
              "</style>\n",
              "<table border=\"1\" class=\"dataframe\">\n",
              "  <thead>\n",
              "    <tr style=\"text-align: right;\">\n",
              "      <th></th>\n",
              "      <th>index</th>\n",
              "      <th>room_id</th>\n",
              "      <th>survey_id</th>\n",
              "      <th>host_id</th>\n",
              "      <th>room_type</th>\n",
              "      <th>city</th>\n",
              "      <th>neighborhood</th>\n",
              "      <th>reviews</th>\n",
              "      <th>overall_satisfaction</th>\n",
              "      <th>accommodates</th>\n",
              "      <th>bedrooms</th>\n",
              "      <th>price</th>\n",
              "      <th>name</th>\n",
              "      <th>score</th>\n",
              "    </tr>\n",
              "  </thead>\n",
              "  <tbody>\n",
              "    <tr>\n",
              "      <th>0</th>\n",
              "      <td>18536</td>\n",
              "      <td>674461</td>\n",
              "      <td>1477</td>\n",
              "      <td>3424464</td>\n",
              "      <td>Private room</td>\n",
              "      <td>Barcelona</td>\n",
              "      <td>Sants-Montjuïc</td>\n",
              "      <td>376</td>\n",
              "      <td>5.0</td>\n",
              "      <td>1</td>\n",
              "      <td>1.0</td>\n",
              "      <td>28.0</td>\n",
              "      <td>CENTRIC, IDEAL TOURISTS, BREAKFAST</td>\n",
              "      <td>4.993830</td>\n",
              "    </tr>\n",
              "    <tr>\n",
              "      <th>1</th>\n",
              "      <td>17173</td>\n",
              "      <td>763176</td>\n",
              "      <td>1477</td>\n",
              "      <td>3424464</td>\n",
              "      <td>Private room</td>\n",
              "      <td>Barcelona</td>\n",
              "      <td>Sants-Montjuïc</td>\n",
              "      <td>339</td>\n",
              "      <td>5.0</td>\n",
              "      <td>2</td>\n",
              "      <td>1.0</td>\n",
              "      <td>34.0</td>\n",
              "      <td>VERY CENTRIC, PERFECT FOR TOURISTS</td>\n",
              "      <td>4.993161</td>\n",
              "    </tr>\n",
              "    <tr>\n",
              "      <th>2</th>\n",
              "      <td>8625</td>\n",
              "      <td>590503</td>\n",
              "      <td>1477</td>\n",
              "      <td>6057270</td>\n",
              "      <td>Entire home/apt</td>\n",
              "      <td>Barcelona</td>\n",
              "      <td>Eixample</td>\n",
              "      <td>326</td>\n",
              "      <td>5.0</td>\n",
              "      <td>6</td>\n",
              "      <td>1.0</td>\n",
              "      <td>78.0</td>\n",
              "      <td>Cozy apartment ☼ perfect situation - metro &amp; WIFI</td>\n",
              "      <td>4.992890</td>\n",
              "    </tr>\n",
              "    <tr>\n",
              "      <th>3</th>\n",
              "      <td>18488</td>\n",
              "      <td>1181739</td>\n",
              "      <td>1477</td>\n",
              "      <td>3424464</td>\n",
              "      <td>Private room</td>\n",
              "      <td>Barcelona</td>\n",
              "      <td>Sants-Montjuïc</td>\n",
              "      <td>324</td>\n",
              "      <td>5.0</td>\n",
              "      <td>3</td>\n",
              "      <td>1.0</td>\n",
              "      <td>39.0</td>\n",
              "      <td>VERY CENTRIC &amp; SPACIOUS. Breakfast</td>\n",
              "      <td>4.992846</td>\n",
              "    </tr>\n",
              "    <tr>\n",
              "      <th>4</th>\n",
              "      <td>14631</td>\n",
              "      <td>270050</td>\n",
              "      <td>1477</td>\n",
              "      <td>1414100</td>\n",
              "      <td>Private room</td>\n",
              "      <td>Barcelona</td>\n",
              "      <td>Ciutat Vella</td>\n",
              "      <td>320</td>\n",
              "      <td>5.0</td>\n",
              "      <td>2</td>\n",
              "      <td>1.0</td>\n",
              "      <td>58.0</td>\n",
              "      <td>Double Room in El vaixell de paper</td>\n",
              "      <td>4.992757</td>\n",
              "    </tr>\n",
              "  </tbody>\n",
              "</table>\n",
              "</div>"
            ],
            "text/plain": [
              "   index  room_id  ...                                               name     score\n",
              "0  18536   674461  ...                 CENTRIC, IDEAL TOURISTS, BREAKFAST  4.993830\n",
              "1  17173   763176  ...                 VERY CENTRIC, PERFECT FOR TOURISTS  4.993161\n",
              "2   8625   590503  ...  Cozy apartment ☼ perfect situation - metro & WIFI  4.992890\n",
              "3  18488  1181739  ...                 VERY CENTRIC & SPACIOUS. Breakfast  4.992846\n",
              "4  14631   270050  ...                 Double Room in El vaixell de paper  4.992757\n",
              "\n",
              "[5 rows x 14 columns]"
            ]
          },
          "metadata": {
            "tags": []
          },
          "execution_count": 85
        }
      ]
    },
    {
      "cell_type": "code",
      "metadata": {
        "id": "NVgPVB4QYsI9",
        "colab_type": "code",
        "colab": {
          "base_uri": "https://localhost:8080/",
          "height": 509
        },
        "outputId": "34b94371-2e94-4c13-8732-c19a304b029d"
      },
      "source": [
        "print(df1['bedrooms'].value_counts())\n",
        "sns.countplot(y=df1['bedrooms'],data=df1)"
      ],
      "execution_count": 96,
      "outputs": [
        {
          "output_type": "stream",
          "text": [
            "1.0     4767\n",
            "2.0     1708\n",
            "3.0     1108\n",
            "4.0      411\n",
            "0.0      224\n",
            "5.0       80\n",
            "6.0       44\n",
            "9.0        4\n",
            "7.0        4\n",
            "10.0       4\n",
            "8.0        2\n",
            "Name: bedrooms, dtype: int64\n"
          ],
          "name": "stdout"
        },
        {
          "output_type": "execute_result",
          "data": {
            "text/plain": [
              "<matplotlib.axes._subplots.AxesSubplot at 0x7f783ac14898>"
            ]
          },
          "metadata": {
            "tags": []
          },
          "execution_count": 96
        },
        {
          "output_type": "display_data",
          "data": {
            "image/png": "[encoded data removed]",
            "text/plain": [
              "<Figure size 432x288 with 1 Axes>"
            ]
          },
          "metadata": {
            "tags": []
          }
        }
      ]
    },
    {
      "cell_type": "code",
      "metadata": {
        "id": "SyTmf5xicb37",
        "colab_type": "code",
        "colab": {
          "base_uri": "https://localhost:8080/",
          "height": 296
        },
        "outputId": "79c487cc-0e4c-447d-f1aa-2e3c08b06914"
      },
      "source": [
        "plt.scatter(df1['bedrooms'], df1['price'])\n",
        "\n",
        "plt.title('Price of property')\n",
        "\n",
        "plt.xlabel('bedrooms')\n",
        "\n",
        "plt.ylabel('price')\n",
        "\n",
        "plt.show()"
      ],
      "execution_count": 98,
      "outputs": [
        {
          "output_type": "display_data",
          "data": {
            "image/png": "[encoded data removed]",
            "text/plain": [
              "<Figure size 432x288 with 1 Axes>"
            ]
          },
          "metadata": {
            "tags": []
          }
        }
      ]
    },
    {
      "cell_type": "code",
      "metadata": {
        "id": "Al_2SyBEdl8Q",
        "colab_type": "code",
        "colab": {
          "base_uri": "https://localhost:8080/",
          "height": 296
        },
        "outputId": "8c28ebeb-0194-48ae-9690-36078ac26911"
      },
      "source": [
        "\n",
        "\n",
        "plt.bar(df1['bedrooms'], df1['price'])\n",
        "plt.ylabel('price')\n",
        "plt.xlabel('bedrooms')\n",
        "plt.title('bedrooms vs price')\n",
        "\n",
        "plt.show()\n",
        "\n",
        "plt.show()\n"
      ],
      "execution_count": 109,
      "outputs": [
        {
          "output_type": "display_data",
          "data": {
            "image/png": "[encoded data removed]",
            "text/plain": [
              "<Figure size 432x288 with 1 Axes>"
            ]
          },
          "metadata": {
            "tags": []
          }
        }
      ]
    },
    {
      "cell_type": "code",
      "metadata": {
        "id": "Y_ByA_28eQEX",
        "colab_type": "code",
        "colab": {
          "base_uri": "https://localhost:8080/",
          "height": 284
        },
        "outputId": "caf233bd-3600-48e2-b780-710d8414b5d9"
      },
      "source": [
        "\n",
        "plt.bar(df1['accommodates'], df1['price'])\n",
        "plt.xticks(df1['accommodates'])\n",
        "plt.ylabel('price')\n",
        "plt.xlabel('no of accomdation')\n",
        "#plt.title('no of accomdation')\n",
        "\n",
        "plt.show()"
      ],
      "execution_count": 110,
      "outputs": [
        {
          "output_type": "display_data",
          "data": {
            "image/png": "[encoded data removed]",
            "text/plain": [
              "<Figure size 432x288 with 1 Axes>"
            ]
          },
          "metadata": {
            "tags": []
          }
        }
      ]
    },
    {
      "cell_type": "code",
      "metadata": {
        "id": "UO4YIiCND8Jg",
        "colab_type": "code",
        "colab": {
          "base_uri": "https://localhost:8080/",
          "height": 233
        },
        "outputId": "665cb10b-a4eb-4333-f936-88eb0d42562d"
      },
      "source": [
        "#where there is only one room per hotel we cant make recommendations to the host \n",
        "df_property = df1.groupby(['host_id'])['room_id'].nunique().sort_values(ascending=False)\n",
        "df_property = pd.DataFrame(df_property)\n",
        "df_property.tail()"
      ],
      "execution_count": 20,
      "outputs": [
        {
          "output_type": "execute_result",
          "data": {
            "text/html": [
              "<div>\n",
              "<style scoped>\n",
              "    .dataframe tbody tr th:only-of-type {\n",
              "        vertical-align: middle;\n",
              "    }\n",
              "\n",
              "    .dataframe tbody tr th {\n",
              "        vertical-align: top;\n",
              "    }\n",
              "\n",
              "    .dataframe thead th {\n",
              "        text-align: right;\n",
              "    }\n",
              "</style>\n",
              "<table border=\"1\" class=\"dataframe\">\n",
              "  <thead>\n",
              "    <tr style=\"text-align: right;\">\n",
              "      <th></th>\n",
              "      <th>room_id</th>\n",
              "    </tr>\n",
              "    <tr>\n",
              "      <th>host_id</th>\n",
              "      <th></th>\n",
              "    </tr>\n",
              "  </thead>\n",
              "  <tbody>\n",
              "    <tr>\n",
              "      <th>41018859</th>\n",
              "      <td>1</td>\n",
              "    </tr>\n",
              "    <tr>\n",
              "      <th>41040631</th>\n",
              "      <td>1</td>\n",
              "    </tr>\n",
              "    <tr>\n",
              "      <th>41067283</th>\n",
              "      <td>1</td>\n",
              "    </tr>\n",
              "    <tr>\n",
              "      <th>41092915</th>\n",
              "      <td>1</td>\n",
              "    </tr>\n",
              "    <tr>\n",
              "      <th>10077</th>\n",
              "      <td>1</td>\n",
              "    </tr>\n",
              "  </tbody>\n",
              "</table>\n",
              "</div>"
            ],
            "text/plain": [
              "          room_id\n",
              "host_id          \n",
              "41018859        1\n",
              "41040631        1\n",
              "41067283        1\n",
              "41092915        1\n",
              "10077           1"
            ]
          },
          "metadata": {
            "tags": []
          },
          "execution_count": 20
        }
      ]
    },
    {
      "cell_type": "code",
      "metadata": {
        "id": "W9tNWc5DHg_0",
        "colab_type": "code",
        "colab": {}
      },
      "source": [
        "\n",
        "df_property_1 = df_property[df_property['room_id'] == 1]\n",
        "\n"
      ],
      "execution_count": 0,
      "outputs": []
    },
    {
      "cell_type": "code",
      "metadata": {
        "id": "sNqr-2xQJRty",
        "colab_type": "code",
        "colab": {}
      },
      "source": [
        "l=df_property_1.index.tolist()"
      ],
      "execution_count": 0,
      "outputs": []
    },
    {
      "cell_type": "code",
      "metadata": {
        "id": "pOPDUJ7RKy_7",
        "colab_type": "code",
        "colab": {
          "base_uri": "https://localhost:8080/",
          "height": 34
        },
        "outputId": "e0d20e53-ca08-402b-bdd4-434f21c3d8be"
      },
      "source": [
        "len(l)"
      ],
      "execution_count": 23,
      "outputs": [
        {
          "output_type": "execute_result",
          "data": {
            "text/plain": [
              "6809"
            ]
          },
          "metadata": {
            "tags": []
          },
          "execution_count": 23
        }
      ]
    },
    {
      "cell_type": "code",
      "metadata": {
        "id": "Dc83uGiEKT36",
        "colab_type": "code",
        "colab": {}
      },
      "source": [
        "for i in l:\n",
        "  df1.drop(df1.loc[df1['host_id']==i].index, inplace=True)\n",
        " "
      ],
      "execution_count": 0,
      "outputs": []
    },
    {
      "cell_type": "code",
      "metadata": {
        "id": "96AmnFdYLZNg",
        "colab_type": "code",
        "colab": {
          "base_uri": "https://localhost:8080/",
          "height": 34
        },
        "outputId": "7617c2f4-dfd2-4c60-86ef-6764ff24be3d"
      },
      "source": [
        "df1.shape"
      ],
      "execution_count": 78,
      "outputs": [
        {
          "output_type": "execute_result",
          "data": {
            "text/plain": [
              "(8356, 12)"
            ]
          },
          "metadata": {
            "tags": []
          },
          "execution_count": 78
        }
      ]
    },
    {
      "cell_type": "code",
      "metadata": {
        "id": "5oliKfThLdLd",
        "colab_type": "code",
        "colab": {
          "base_uri": "https://localhost:8080/",
          "height": 202
        },
        "outputId": "69a06102-172c-40b3-b958-da614e6fe7c3"
      },
      "source": [
        "df1.head()"
      ],
      "execution_count": 80,
      "outputs": [
        {
          "output_type": "execute_result",
          "data": {
            "text/html": [
              "<div>\n",
              "<style scoped>\n",
              "    .dataframe tbody tr th:only-of-type {\n",
              "        vertical-align: middle;\n",
              "    }\n",
              "\n",
              "    .dataframe tbody tr th {\n",
              "        vertical-align: top;\n",
              "    }\n",
              "\n",
              "    .dataframe thead th {\n",
              "        text-align: right;\n",
              "    }\n",
              "</style>\n",
              "<table border=\"1\" class=\"dataframe\">\n",
              "  <thead>\n",
              "    <tr style=\"text-align: right;\">\n",
              "      <th></th>\n",
              "      <th>room_id</th>\n",
              "      <th>survey_id</th>\n",
              "      <th>host_id</th>\n",
              "      <th>room_type</th>\n",
              "      <th>city</th>\n",
              "      <th>neighborhood</th>\n",
              "      <th>reviews</th>\n",
              "      <th>overall_satisfaction</th>\n",
              "      <th>accommodates</th>\n",
              "      <th>bedrooms</th>\n",
              "      <th>price</th>\n",
              "      <th>name</th>\n",
              "    </tr>\n",
              "  </thead>\n",
              "  <tbody>\n",
              "    <tr>\n",
              "      <th>5</th>\n",
              "      <td>12018424</td>\n",
              "      <td>1477</td>\n",
              "      <td>64212374</td>\n",
              "      <td>Shared room</td>\n",
              "      <td>Barcelona</td>\n",
              "      <td>Sants-Montjuïc</td>\n",
              "      <td>13</td>\n",
              "      <td>4.0</td>\n",
              "      <td>12</td>\n",
              "      <td>1.0</td>\n",
              "      <td>129.0</td>\n",
              "      <td>12 Bed Mixed Dorm Ensuite</td>\n",
              "    </tr>\n",
              "    <tr>\n",
              "      <th>6</th>\n",
              "      <td>12017913</td>\n",
              "      <td>1477</td>\n",
              "      <td>64212374</td>\n",
              "      <td>Shared room</td>\n",
              "      <td>Barcelona</td>\n",
              "      <td>Sants-Montjuïc</td>\n",
              "      <td>11</td>\n",
              "      <td>4.0</td>\n",
              "      <td>12</td>\n",
              "      <td>1.0</td>\n",
              "      <td>129.0</td>\n",
              "      <td>12 Bed Mixed Dorm Ensuite</td>\n",
              "    </tr>\n",
              "    <tr>\n",
              "      <th>7</th>\n",
              "      <td>11830051</td>\n",
              "      <td>1477</td>\n",
              "      <td>41807465</td>\n",
              "      <td>Shared room</td>\n",
              "      <td>Barcelona</td>\n",
              "      <td>Eixample</td>\n",
              "      <td>9</td>\n",
              "      <td>5.0</td>\n",
              "      <td>2</td>\n",
              "      <td>1.0</td>\n",
              "      <td>72.0</td>\n",
              "      <td>HEART OF BARCELONA : BED IN MIXED DORMITORY 2 ...</td>\n",
              "    </tr>\n",
              "    <tr>\n",
              "      <th>10</th>\n",
              "      <td>1823947</td>\n",
              "      <td>1477</td>\n",
              "      <td>9547606</td>\n",
              "      <td>Shared room</td>\n",
              "      <td>Barcelona</td>\n",
              "      <td>Sants-Montjuïc</td>\n",
              "      <td>67</td>\n",
              "      <td>4.0</td>\n",
              "      <td>16</td>\n",
              "      <td>1.0</td>\n",
              "      <td>45.0</td>\n",
              "      <td>Hostal esta 150 m del Camp Nou wifi</td>\n",
              "    </tr>\n",
              "    <tr>\n",
              "      <th>12</th>\n",
              "      <td>7965130</td>\n",
              "      <td>1477</td>\n",
              "      <td>41807465</td>\n",
              "      <td>Shared room</td>\n",
              "      <td>Barcelona</td>\n",
              "      <td>Eixample</td>\n",
              "      <td>6</td>\n",
              "      <td>4.5</td>\n",
              "      <td>8</td>\n",
              "      <td>1.0</td>\n",
              "      <td>289.0</td>\n",
              "      <td>PRIVATE ROOM FOR 8 PERSONS IN HEART OF BARCELO...</td>\n",
              "    </tr>\n",
              "  </tbody>\n",
              "</table>\n",
              "</div>"
            ],
            "text/plain": [
              "     room_id  ...                                               name\n",
              "5   12018424  ...                          12 Bed Mixed Dorm Ensuite\n",
              "6   12017913  ...                          12 Bed Mixed Dorm Ensuite\n",
              "7   11830051  ...  HEART OF BARCELONA : BED IN MIXED DORMITORY 2 ...\n",
              "10   1823947  ...                Hostal esta 150 m del Camp Nou wifi\n",
              "12   7965130  ...  PRIVATE ROOM FOR 8 PERSONS IN HEART OF BARCELO...\n",
              "\n",
              "[5 rows x 12 columns]"
            ]
          },
          "metadata": {
            "tags": []
          },
          "execution_count": 80
        }
      ]
    },
    {
      "cell_type": "code",
      "metadata": {
        "id": "eUI2jNmShqZc",
        "colab_type": "code",
        "colab": {
          "base_uri": "https://localhost:8080/",
          "height": 69
        },
        "outputId": "11246afe-0665-4f9a-ab84-00b3f6cd5399"
      },
      "source": [
        "print (df1.shape)\n",
        "print (df1_train.shape)\n",
        "print (df1_test.shape)\n",
        "assert len(df1_train.index & df1_test.index) == 0"
      ],
      "execution_count": 28,
      "outputs": [
        {
          "output_type": "stream",
          "text": [
            "(8356, 12)\n",
            "(5515, 12)\n",
            "(2841, 12)\n"
          ],
          "name": "stdout"
        }
      ]
    },
    {
      "cell_type": "code",
      "metadata": {
        "id": "X4_VGTo9jbrt",
        "colab_type": "code",
        "colab": {
          "base_uri": "https://localhost:8080/",
          "height": 202
        },
        "outputId": "263854c7-b6ea-40d7-a8c2-9b4cb698ecaa"
      },
      "source": [
        "df1.head()"
      ],
      "execution_count": 29,
      "outputs": [
        {
          "output_type": "execute_result",
          "data": {
            "text/html": [
              "<div>\n",
              "<style scoped>\n",
              "    .dataframe tbody tr th:only-of-type {\n",
              "        vertical-align: middle;\n",
              "    }\n",
              "\n",
              "    .dataframe tbody tr th {\n",
              "        vertical-align: top;\n",
              "    }\n",
              "\n",
              "    .dataframe thead th {\n",
              "        text-align: right;\n",
              "    }\n",
              "</style>\n",
              "<table border=\"1\" class=\"dataframe\">\n",
              "  <thead>\n",
              "    <tr style=\"text-align: right;\">\n",
              "      <th></th>\n",
              "      <th>room_id</th>\n",
              "      <th>survey_id</th>\n",
              "      <th>host_id</th>\n",
              "      <th>room_type</th>\n",
              "      <th>city</th>\n",
              "      <th>neighborhood</th>\n",
              "      <th>reviews</th>\n",
              "      <th>overall_satisfaction</th>\n",
              "      <th>accommodates</th>\n",
              "      <th>bedrooms</th>\n",
              "      <th>price</th>\n",
              "      <th>name</th>\n",
              "    </tr>\n",
              "  </thead>\n",
              "  <tbody>\n",
              "    <tr>\n",
              "      <th>5</th>\n",
              "      <td>12018424</td>\n",
              "      <td>1477</td>\n",
              "      <td>64212374</td>\n",
              "      <td>Shared room</td>\n",
              "      <td>Barcelona</td>\n",
              "      <td>Sants-Montjuïc</td>\n",
              "      <td>13</td>\n",
              "      <td>4.0</td>\n",
              "      <td>12</td>\n",
              "      <td>1.0</td>\n",
              "      <td>129.0</td>\n",
              "      <td>12 Bed Mixed Dorm Ensuite</td>\n",
              "    </tr>\n",
              "    <tr>\n",
              "      <th>6</th>\n",
              "      <td>12017913</td>\n",
              "      <td>1477</td>\n",
              "      <td>64212374</td>\n",
              "      <td>Shared room</td>\n",
              "      <td>Barcelona</td>\n",
              "      <td>Sants-Montjuïc</td>\n",
              "      <td>11</td>\n",
              "      <td>4.0</td>\n",
              "      <td>12</td>\n",
              "      <td>1.0</td>\n",
              "      <td>129.0</td>\n",
              "      <td>12 Bed Mixed Dorm Ensuite</td>\n",
              "    </tr>\n",
              "    <tr>\n",
              "      <th>7</th>\n",
              "      <td>11830051</td>\n",
              "      <td>1477</td>\n",
              "      <td>41807465</td>\n",
              "      <td>Shared room</td>\n",
              "      <td>Barcelona</td>\n",
              "      <td>Eixample</td>\n",
              "      <td>9</td>\n",
              "      <td>5.0</td>\n",
              "      <td>2</td>\n",
              "      <td>1.0</td>\n",
              "      <td>72.0</td>\n",
              "      <td>HEART OF BARCELONA : BED IN MIXED DORMITORY 2 ...</td>\n",
              "    </tr>\n",
              "    <tr>\n",
              "      <th>10</th>\n",
              "      <td>1823947</td>\n",
              "      <td>1477</td>\n",
              "      <td>9547606</td>\n",
              "      <td>Shared room</td>\n",
              "      <td>Barcelona</td>\n",
              "      <td>Sants-Montjuïc</td>\n",
              "      <td>67</td>\n",
              "      <td>4.0</td>\n",
              "      <td>16</td>\n",
              "      <td>1.0</td>\n",
              "      <td>45.0</td>\n",
              "      <td>Hostal esta 150 m del Camp Nou wifi</td>\n",
              "    </tr>\n",
              "    <tr>\n",
              "      <th>12</th>\n",
              "      <td>7965130</td>\n",
              "      <td>1477</td>\n",
              "      <td>41807465</td>\n",
              "      <td>Shared room</td>\n",
              "      <td>Barcelona</td>\n",
              "      <td>Eixample</td>\n",
              "      <td>6</td>\n",
              "      <td>4.5</td>\n",
              "      <td>8</td>\n",
              "      <td>1.0</td>\n",
              "      <td>289.0</td>\n",
              "      <td>PRIVATE ROOM FOR 8 PERSONS IN HEART OF BARCELO...</td>\n",
              "    </tr>\n",
              "  </tbody>\n",
              "</table>\n",
              "</div>"
            ],
            "text/plain": [
              "     room_id  ...                                               name\n",
              "5   12018424  ...                          12 Bed Mixed Dorm Ensuite\n",
              "6   12017913  ...                          12 Bed Mixed Dorm Ensuite\n",
              "7   11830051  ...  HEART OF BARCELONA : BED IN MIXED DORMITORY 2 ...\n",
              "10   1823947  ...                Hostal esta 150 m del Camp Nou wifi\n",
              "12   7965130  ...  PRIVATE ROOM FOR 8 PERSONS IN HEART OF BARCELO...\n",
              "\n",
              "[5 rows x 12 columns]"
            ]
          },
          "metadata": {
            "tags": []
          },
          "execution_count": 29
        }
      ]
    },
    {
      "cell_type": "code",
      "metadata": {
        "id": "qN2oZ70OymAw",
        "colab_type": "code",
        "colab": {
          "base_uri": "https://localhost:8080/",
          "height": 86
        },
        "outputId": "7d0be785-38a5-4d3d-bad5-277c975f399b"
      },
      "source": [
        "df1.columns"
      ],
      "execution_count": 125,
      "outputs": [
        {
          "output_type": "execute_result",
          "data": {
            "text/plain": [
              "Index(['room_id', 'survey_id', 'host_id', 'room_type', 'city', 'neighborhood',\n",
              "       'reviews', 'overall_satisfaction', 'accommodates', 'bedrooms', 'price',\n",
              "       'name', 'for_testing'],\n",
              "      dtype='object')"
            ]
          },
          "metadata": {
            "tags": []
          },
          "execution_count": 125
        }
      ]
    },
    {
      "cell_type": "code",
      "metadata": {
        "id": "5aa5fDiU4hlA",
        "colab_type": "code",
        "colab": {
          "base_uri": "https://localhost:8080/",
          "height": 34
        },
        "outputId": "eb742b8c-a9fc-4e7d-ff21-b51f5ef90ef4"
      },
      "source": [
        "X_train.shape\n",
        "X_test.shape\n",
        "y_train.shape"
      ],
      "execution_count": 145,
      "outputs": [
        {
          "output_type": "execute_result",
          "data": {
            "text/plain": [
              "(5515, 10)"
            ]
          },
          "metadata": {
            "tags": []
          },
          "execution_count": 145
        }
      ]
    },
    {
      "cell_type": "code",
      "metadata": {
        "id": "6cFvXJj98CNt",
        "colab_type": "code",
        "colab": {}
      },
      "source": [
        "df1.head()\n",
        "df1=df1.reset_index()"
      ],
      "execution_count": 0,
      "outputs": []
    },
    {
      "cell_type": "code",
      "metadata": {
        "id": "6G2ahWBH81m5",
        "colab_type": "code",
        "colab": {}
      },
      "source": [
        "C=df1['overall_satisfaction'].mean()"
      ],
      "execution_count": 0,
      "outputs": []
    },
    {
      "cell_type": "markdown",
      "metadata": {
        "id": "BA0a_mK294VR",
        "colab_type": "text"
      },
      "source": [
        "v is the number of reviews  for the property;\n",
        "m is the minimum reviews required to be listed in the chart;\n",
        "R is the overall rationg of the room And\n",
        "C is the mean rating  across the whole report"
      ]
    },
    {
      "cell_type": "code",
      "metadata": {
        "id": "UaU2dAwc9Uxp",
        "colab_type": "code",
        "colab": {}
      },
      "source": [
        "m=2    #in order to take recommendation at least 2 people should have recommended it \n",
        "def weighted_rating(x, m=m, C=C):\n",
        "    v = x['reviews']\n",
        "    R = x['overall_satisfaction']\n",
        "    \n",
        "    return (v/(v+m) * R) + (m/(m+v) * C)"
      ],
      "execution_count": 0,
      "outputs": []
    },
    {
      "cell_type": "code",
      "metadata": {
        "id": "-NKu7WO6-NdW",
        "colab_type": "code",
        "colab": {}
      },
      "source": [
        "# Define a new feature 'score' and calculate its value with `weighted_rating()`\n",
        "df1['score'] = df1.apply(weighted_rating, axis=1)\n"
      ],
      "execution_count": 0,
      "outputs": []
    },
    {
      "cell_type": "code",
      "metadata": {
        "id": "UPsoBx1X-kky",
        "colab_type": "code",
        "colab": {
          "base_uri": "https://localhost:8080/",
          "height": 121
        },
        "outputId": "806325e2-a879-4ac1-b0bf-f0851975cda6"
      },
      "source": [
        "df1['score'].value_counts().head()"
      ],
      "execution_count": 37,
      "outputs": [
        {
          "output_type": "execute_result",
          "data": {
            "text/plain": [
              "2.555928    681\n",
              "1.916946    547\n",
              "4.233557    183\n",
              "4.611297    151\n",
              "4.533557    142\n",
              "Name: score, dtype: int64"
            ]
          },
          "metadata": {
            "tags": []
          },
          "execution_count": 37
        }
      ]
    },
    {
      "cell_type": "code",
      "metadata": {
        "id": "VFMrLK9m_HOn",
        "colab_type": "code",
        "colab": {
          "base_uri": "https://localhost:8080/",
          "height": 86
        },
        "outputId": "78d2cb72-01c1-4c91-edc9-1646dd90f56c"
      },
      "source": [
        "df1.columns"
      ],
      "execution_count": 38,
      "outputs": [
        {
          "output_type": "execute_result",
          "data": {
            "text/plain": [
              "Index(['room_id', 'survey_id', 'host_id', 'room_type', 'city', 'neighborhood',\n",
              "       'reviews', 'overall_satisfaction', 'accommodates', 'bedrooms', 'price',\n",
              "       'name', 'score'],\n",
              "      dtype='object')"
            ]
          },
          "metadata": {
            "tags": []
          },
          "execution_count": 38
        }
      ]
    },
    {
      "cell_type": "code",
      "metadata": {
        "id": "6QZGqNRk-3wR",
        "colab_type": "code",
        "colab": {
          "base_uri": "https://localhost:8080/",
          "height": 509
        },
        "outputId": "bda4cc93-6610-45e4-d240-695f1b0ff64f"
      },
      "source": [
        "#arranging with respect to score \n",
        "#Sort  based on score calculated above\n",
        "df1 =df1.sort_values('score', ascending=False)\n",
        "\n",
        "#Print the top 15 rooms\n",
        "df1[['room_id','reviews', 'overall_satisfaction', 'score','host_id']].head(15)"
      ],
      "execution_count": 39,
      "outputs": [
        {
          "output_type": "execute_result",
          "data": {
            "text/html": [
              "<div>\n",
              "<style scoped>\n",
              "    .dataframe tbody tr th:only-of-type {\n",
              "        vertical-align: middle;\n",
              "    }\n",
              "\n",
              "    .dataframe tbody tr th {\n",
              "        vertical-align: top;\n",
              "    }\n",
              "\n",
              "    .dataframe thead th {\n",
              "        text-align: right;\n",
              "    }\n",
              "</style>\n",
              "<table border=\"1\" class=\"dataframe\">\n",
              "  <thead>\n",
              "    <tr style=\"text-align: right;\">\n",
              "      <th></th>\n",
              "      <th>room_id</th>\n",
              "      <th>reviews</th>\n",
              "      <th>overall_satisfaction</th>\n",
              "      <th>score</th>\n",
              "      <th>host_id</th>\n",
              "    </tr>\n",
              "  </thead>\n",
              "  <tbody>\n",
              "    <tr>\n",
              "      <th>18536</th>\n",
              "      <td>674461</td>\n",
              "      <td>376</td>\n",
              "      <td>5.0</td>\n",
              "      <td>4.993830</td>\n",
              "      <td>3424464</td>\n",
              "    </tr>\n",
              "    <tr>\n",
              "      <th>17173</th>\n",
              "      <td>763176</td>\n",
              "      <td>339</td>\n",
              "      <td>5.0</td>\n",
              "      <td>4.993161</td>\n",
              "      <td>3424464</td>\n",
              "    </tr>\n",
              "    <tr>\n",
              "      <th>8625</th>\n",
              "      <td>590503</td>\n",
              "      <td>326</td>\n",
              "      <td>5.0</td>\n",
              "      <td>4.992890</td>\n",
              "      <td>6057270</td>\n",
              "    </tr>\n",
              "    <tr>\n",
              "      <th>18488</th>\n",
              "      <td>1181739</td>\n",
              "      <td>324</td>\n",
              "      <td>5.0</td>\n",
              "      <td>4.992846</td>\n",
              "      <td>3424464</td>\n",
              "    </tr>\n",
              "    <tr>\n",
              "      <th>14631</th>\n",
              "      <td>270050</td>\n",
              "      <td>320</td>\n",
              "      <td>5.0</td>\n",
              "      <td>4.992757</td>\n",
              "      <td>1414100</td>\n",
              "    </tr>\n",
              "    <tr>\n",
              "      <th>7443</th>\n",
              "      <td>866315</td>\n",
              "      <td>320</td>\n",
              "      <td>5.0</td>\n",
              "      <td>4.992757</td>\n",
              "      <td>4427588</td>\n",
              "    </tr>\n",
              "    <tr>\n",
              "      <th>13258</th>\n",
              "      <td>3390888</td>\n",
              "      <td>287</td>\n",
              "      <td>5.0</td>\n",
              "      <td>4.991930</td>\n",
              "      <td>17107294</td>\n",
              "    </tr>\n",
              "    <tr>\n",
              "      <th>10093</th>\n",
              "      <td>3653695</td>\n",
              "      <td>283</td>\n",
              "      <td>5.0</td>\n",
              "      <td>4.991817</td>\n",
              "      <td>17923344</td>\n",
              "    </tr>\n",
              "    <tr>\n",
              "      <th>15079</th>\n",
              "      <td>380421</td>\n",
              "      <td>276</td>\n",
              "      <td>5.0</td>\n",
              "      <td>4.991611</td>\n",
              "      <td>1414100</td>\n",
              "    </tr>\n",
              "    <tr>\n",
              "      <th>11536</th>\n",
              "      <td>1224736</td>\n",
              "      <td>272</td>\n",
              "      <td>5.0</td>\n",
              "      <td>4.991488</td>\n",
              "      <td>6680972</td>\n",
              "    </tr>\n",
              "    <tr>\n",
              "      <th>6103</th>\n",
              "      <td>1754460</td>\n",
              "      <td>268</td>\n",
              "      <td>5.0</td>\n",
              "      <td>4.991362</td>\n",
              "      <td>4427588</td>\n",
              "    </tr>\n",
              "    <tr>\n",
              "      <th>17543</th>\n",
              "      <td>2252574</td>\n",
              "      <td>260</td>\n",
              "      <td>5.0</td>\n",
              "      <td>4.991098</td>\n",
              "      <td>11504324</td>\n",
              "    </tr>\n",
              "    <tr>\n",
              "      <th>11789</th>\n",
              "      <td>1013513</td>\n",
              "      <td>253</td>\n",
              "      <td>5.0</td>\n",
              "      <td>4.990854</td>\n",
              "      <td>5515536</td>\n",
              "    </tr>\n",
              "    <tr>\n",
              "      <th>8728</th>\n",
              "      <td>906559</td>\n",
              "      <td>244</td>\n",
              "      <td>5.0</td>\n",
              "      <td>4.990519</td>\n",
              "      <td>1820272</td>\n",
              "    </tr>\n",
              "    <tr>\n",
              "      <th>7819</th>\n",
              "      <td>1530586</td>\n",
              "      <td>241</td>\n",
              "      <td>5.0</td>\n",
              "      <td>4.990402</td>\n",
              "      <td>8164313</td>\n",
              "    </tr>\n",
              "  </tbody>\n",
              "</table>\n",
              "</div>"
            ],
            "text/plain": [
              "       room_id  reviews  overall_satisfaction     score   host_id\n",
              "18536   674461      376                   5.0  4.993830   3424464\n",
              "17173   763176      339                   5.0  4.993161   3424464\n",
              "8625    590503      326                   5.0  4.992890   6057270\n",
              "18488  1181739      324                   5.0  4.992846   3424464\n",
              "14631   270050      320                   5.0  4.992757   1414100\n",
              "7443    866315      320                   5.0  4.992757   4427588\n",
              "13258  3390888      287                   5.0  4.991930  17107294\n",
              "10093  3653695      283                   5.0  4.991817  17923344\n",
              "15079   380421      276                   5.0  4.991611   1414100\n",
              "11536  1224736      272                   5.0  4.991488   6680972\n",
              "6103   1754460      268                   5.0  4.991362   4427588\n",
              "17543  2252574      260                   5.0  4.991098  11504324\n",
              "11789  1013513      253                   5.0  4.990854   5515536\n",
              "8728    906559      244                   5.0  4.990519   1820272\n",
              "7819   1530586      241                   5.0  4.990402   8164313"
            ]
          },
          "metadata": {
            "tags": []
          },
          "execution_count": 39
        }
      ]
    },
    {
      "cell_type": "code",
      "metadata": {
        "id": "-qrvCVWA_8-V",
        "colab_type": "code",
        "colab": {
          "base_uri": "https://localhost:8080/",
          "height": 110
        },
        "outputId": "5151eaf2-b417-48cb-dd7a-692265b26df1"
      },
      "source": [
        "\n",
        "recommendation=df1.groupby('host_id')\n",
        "recommendation.head()\n",
        "\n",
        "#best room under the host \n",
        "recommendation.get_group(1414100) \n"
      ],
      "execution_count": 40,
      "outputs": [
        {
          "output_type": "execute_result",
          "data": {
            "text/html": [
              "<div>\n",
              "<style scoped>\n",
              "    .dataframe tbody tr th:only-of-type {\n",
              "        vertical-align: middle;\n",
              "    }\n",
              "\n",
              "    .dataframe tbody tr th {\n",
              "        vertical-align: top;\n",
              "    }\n",
              "\n",
              "    .dataframe thead th {\n",
              "        text-align: right;\n",
              "    }\n",
              "</style>\n",
              "<table border=\"1\" class=\"dataframe\">\n",
              "  <thead>\n",
              "    <tr style=\"text-align: right;\">\n",
              "      <th></th>\n",
              "      <th>room_id</th>\n",
              "      <th>survey_id</th>\n",
              "      <th>host_id</th>\n",
              "      <th>room_type</th>\n",
              "      <th>city</th>\n",
              "      <th>neighborhood</th>\n",
              "      <th>reviews</th>\n",
              "      <th>overall_satisfaction</th>\n",
              "      <th>accommodates</th>\n",
              "      <th>bedrooms</th>\n",
              "      <th>price</th>\n",
              "      <th>name</th>\n",
              "      <th>score</th>\n",
              "    </tr>\n",
              "  </thead>\n",
              "  <tbody>\n",
              "    <tr>\n",
              "      <th>14631</th>\n",
              "      <td>270050</td>\n",
              "      <td>1477</td>\n",
              "      <td>1414100</td>\n",
              "      <td>Private room</td>\n",
              "      <td>Barcelona</td>\n",
              "      <td>Ciutat Vella</td>\n",
              "      <td>320</td>\n",
              "      <td>5.0</td>\n",
              "      <td>2</td>\n",
              "      <td>1.0</td>\n",
              "      <td>58.0</td>\n",
              "      <td>Double Room in El vaixell de paper</td>\n",
              "      <td>4.992757</td>\n",
              "    </tr>\n",
              "    <tr>\n",
              "      <th>15079</th>\n",
              "      <td>380421</td>\n",
              "      <td>1477</td>\n",
              "      <td>1414100</td>\n",
              "      <td>Private room</td>\n",
              "      <td>Barcelona</td>\n",
              "      <td>Ciutat Vella</td>\n",
              "      <td>276</td>\n",
              "      <td>5.0</td>\n",
              "      <td>2</td>\n",
              "      <td>1.0</td>\n",
              "      <td>58.0</td>\n",
              "      <td>Double room with a balcony</td>\n",
              "      <td>4.991611</td>\n",
              "    </tr>\n",
              "  </tbody>\n",
              "</table>\n",
              "</div>"
            ],
            "text/plain": [
              "       room_id  survey_id  ...                                name     score\n",
              "14631   270050       1477  ...  Double Room in El vaixell de paper  4.992757\n",
              "15079   380421       1477  ...          Double room with a balcony  4.991611\n",
              "\n",
              "[2 rows x 13 columns]"
            ]
          },
          "metadata": {
            "tags": []
          },
          "execution_count": 40
        }
      ]
    },
    {
      "cell_type": "code",
      "metadata": {
        "id": "PNRhBeP_BVU_",
        "colab_type": "code",
        "colab": {}
      },
      "source": [
        "#name is actually the feedback "
      ],
      "execution_count": 0,
      "outputs": []
    },
    {
      "cell_type": "code",
      "metadata": {
        "id": "xMuSk99O_kiX",
        "colab_type": "code",
        "colab": {
          "base_uri": "https://localhost:8080/",
          "height": 121
        },
        "outputId": "09278508-eadb-4e54-a3b0-1716eebfdba7"
      },
      "source": [
        "df1['name'].value_counts().head()"
      ],
      "execution_count": 216,
      "outputs": [
        {
          "output_type": "execute_result",
          "data": {
            "text/plain": [
              "Modern/ central LOFT - Double BR - terrace/jacuzzi    6\n",
              "Sagrada Familia Apartment                             6\n",
              "SAGRADA FAMILIA .DOUBLE  ROOM (BCN)                   4\n",
              "Habitacion individual                                 3\n",
              "Habitación individual                                 3\n",
              "Name: name, dtype: int64"
            ]
          },
          "metadata": {
            "tags": []
          },
          "execution_count": 216
        }
      ]
    },
    {
      "cell_type": "code",
      "metadata": {
        "id": "cjU3N4AZB-Ny",
        "colab_type": "code",
        "colab": {}
      },
      "source": [
        "from sklearn.feature_extraction.text import TfidfVectorizer\n"
      ],
      "execution_count": 0,
      "outputs": []
    },
    {
      "cell_type": "code",
      "metadata": {
        "id": "zrnMUabBBhQv",
        "colab_type": "code",
        "colab": {}
      },
      "source": [
        "tfidf = TfidfVectorizer(stop_words='english')\n",
        "tfidf_matrix = tfidf.fit_transform(df1['name'])\n"
      ],
      "execution_count": 0,
      "outputs": []
    },
    {
      "cell_type": "code",
      "metadata": {
        "id": "9y4VZRxDCO7R",
        "colab_type": "code",
        "colab": {
          "base_uri": "https://localhost:8080/",
          "height": 34
        },
        "outputId": "6e2a7bc2-e648-4d38-b3a4-df3f3130dfa2"
      },
      "source": [
        "tfidf_matrix.shape"
      ],
      "execution_count": 43,
      "outputs": [
        {
          "output_type": "execute_result",
          "data": {
            "text/plain": [
              "(8356, 3412)"
            ]
          },
          "metadata": {
            "tags": []
          },
          "execution_count": 43
        }
      ]
    },
    {
      "cell_type": "code",
      "metadata": {
        "id": "eT9e4S2sEFhF",
        "colab_type": "code",
        "colab": {
          "base_uri": "https://localhost:8080/",
          "height": 121
        },
        "outputId": "8e8beb44-ae1e-4fff-9c22-d13e551088c0"
      },
      "source": [
        "df1['room_id'].value_counts().head()"
      ],
      "execution_count": 44,
      "outputs": [
        {
          "output_type": "execute_result",
          "data": {
            "text/plain": [
              "2770943     1\n",
              "1144116     1\n",
              "2237750     1\n",
              "4556090     1\n",
              "11275579    1\n",
              "Name: room_id, dtype: int64"
            ]
          },
          "metadata": {
            "tags": []
          },
          "execution_count": 44
        }
      ]
    },
    {
      "cell_type": "code",
      "metadata": {
        "id": "5s6qZE8FCT7D",
        "colab_type": "code",
        "colab": {}
      },
      "source": [
        "# Import linear_kernel\n",
        "from sklearn.metrics.pairwise import linear_kernel\n",
        "\n",
        "# Compute the cosine similarity matrix\n",
        "cosine_sim = linear_kernel(tfidf_matrix, tfidf_matrix)\n"
      ],
      "execution_count": 0,
      "outputs": []
    },
    {
      "cell_type": "code",
      "metadata": {
        "id": "eHBAWVk0Edjt",
        "colab_type": "code",
        "colab": {
          "base_uri": "https://localhost:8080/",
          "height": 1109
        },
        "outputId": "807e03fc-5449-4b26-d6a2-edd86b49808a"
      },
      "source": [
        "indices = pd.Series(df1.index, index=df1['room_id']).drop_duplicates()\n",
        "print(indices)"
      ],
      "execution_count": 52,
      "outputs": [
        {
          "output_type": "stream",
          "text": [
            "room_id\n",
            "674461         0\n",
            "763176         1\n",
            "590503         2\n",
            "1181739        3\n",
            "270050         4\n",
            "866315         5\n",
            "3390888        6\n",
            "3653695        7\n",
            "380421         8\n",
            "1224736        9\n",
            "1754460       10\n",
            "2252574       11\n",
            "1013513       12\n",
            "906559        13\n",
            "1530586       14\n",
            "1478299       15\n",
            "811918        16\n",
            "3560163       17\n",
            "1677706       18\n",
            "1304470       19\n",
            "5176854       20\n",
            "1256137       21\n",
            "5176644       22\n",
            "900045        23\n",
            "1100506       24\n",
            "2469678       25\n",
            "1728329       26\n",
            "208684        27\n",
            "1109989       28\n",
            "1251629       29\n",
            "            ... \n",
            "16357497    8326\n",
            "14275656    8327\n",
            "19450748    8328\n",
            "19787197    8329\n",
            "17083350    8330\n",
            "1248789     8331\n",
            "19034744    8332\n",
            "18533621    8333\n",
            "13522508    8334\n",
            "19823432    8335\n",
            "19153820    8336\n",
            "19263271    8337\n",
            "3357564     8338\n",
            "19269208    8339\n",
            "8978226     8340\n",
            "11396341    8341\n",
            "16375985    8342\n",
            "19747971    8343\n",
            "7431713     8344\n",
            "12468621    8345\n",
            "18173821    8346\n",
            "17741038    8347\n",
            "4970715     8348\n",
            "17903826    8349\n",
            "11502685    8350\n",
            "18030645    8351\n",
            "16059196    8352\n",
            "12926299    8353\n",
            "16816283    8354\n",
            "13671647    8355\n",
            "Length: 8356, dtype: int64\n"
          ],
          "name": "stdout"
        }
      ]
    },
    {
      "cell_type": "code",
      "metadata": {
        "id": "O1p8UTNyCm2c",
        "colab_type": "code",
        "colab": {}
      },
      "source": [
        "# Function that takes in roomid as input and outputs most similar room\n",
        "def get_recommendations(room_id, cosine_sim=cosine_sim):\n",
        "    # Get the index of the room that matches the room\n",
        "    idx = indices[room_id]\n",
        "\n",
        "    # Get the pairwsie similarity scores of all room with that room\n",
        "    sim_scores = list(enumerate(cosine_sim[idx]))\n",
        "\n",
        "    # Sort the room based on the similarity scores\n",
        "    sim_scores = sorted(sim_scores, key=lambda x: x[1], reverse=True)\n",
        "\n",
        "    # Get the scores of the 10 most similar room\n",
        "    sim_scores = sim_scores[1:11]\n",
        "\n",
        "    # Get the room indices\n",
        "    room_indices = [i[0] for i in sim_scores]\n",
        "\n",
        "    # Return the top 10 most similar room\n",
        "    return df1['room_id'].iloc[room_indices]"
      ],
      "execution_count": 0,
      "outputs": []
    },
    {
      "cell_type": "code",
      "metadata": {
        "id": "vvLoD2ORLpyH",
        "colab_type": "code",
        "colab": {
          "base_uri": "https://localhost:8080/",
          "height": 52
        },
        "outputId": "9d32f9fb-dc06-4ddb-fd6c-e2bf04545df1"
      },
      "source": [
        "df1['city'].value_counts().head(10)"
      ],
      "execution_count": 54,
      "outputs": [
        {
          "output_type": "execute_result",
          "data": {
            "text/plain": [
              "Barcelona    8356\n",
              "Name: city, dtype: int64"
            ]
          },
          "metadata": {
            "tags": []
          },
          "execution_count": 54
        }
      ]
    },
    {
      "cell_type": "code",
      "metadata": {
        "id": "XIBcyfPWEDC3",
        "colab_type": "code",
        "colab": {}
      },
      "source": [
        "k=get_recommendations(590503)          #recommmendation for room_id '18623807'"
      ],
      "execution_count": 0,
      "outputs": []
    },
    {
      "cell_type": "code",
      "metadata": {
        "id": "FpZDh9YCJE99",
        "colab_type": "code",
        "colab": {
          "base_uri": "https://localhost:8080/",
          "height": 356
        },
        "outputId": "27f326ed-4b43-4c80-f421-019c87ebce10"
      },
      "source": [
        "#content based recommendation \n",
        "df1.loc[df1['room_id'].isin(k)]     #based on name and room_id "
      ],
      "execution_count": 84,
      "outputs": [
        {
          "output_type": "execute_result",
          "data": {
            "text/html": [
              "<div>\n",
              "<style scoped>\n",
              "    .dataframe tbody tr th:only-of-type {\n",
              "        vertical-align: middle;\n",
              "    }\n",
              "\n",
              "    .dataframe tbody tr th {\n",
              "        vertical-align: top;\n",
              "    }\n",
              "\n",
              "    .dataframe thead th {\n",
              "        text-align: right;\n",
              "    }\n",
              "</style>\n",
              "<table border=\"1\" class=\"dataframe\">\n",
              "  <thead>\n",
              "    <tr style=\"text-align: right;\">\n",
              "      <th></th>\n",
              "      <th>index</th>\n",
              "      <th>room_id</th>\n",
              "      <th>survey_id</th>\n",
              "      <th>host_id</th>\n",
              "      <th>room_type</th>\n",
              "      <th>city</th>\n",
              "      <th>neighborhood</th>\n",
              "      <th>reviews</th>\n",
              "      <th>overall_satisfaction</th>\n",
              "      <th>accommodates</th>\n",
              "      <th>bedrooms</th>\n",
              "      <th>price</th>\n",
              "      <th>name</th>\n",
              "      <th>score</th>\n",
              "    </tr>\n",
              "  </thead>\n",
              "  <tbody>\n",
              "    <tr>\n",
              "      <th>932</th>\n",
              "      <td>5177</td>\n",
              "      <td>18213035</td>\n",
              "      <td>1477</td>\n",
              "      <td>90085502</td>\n",
              "      <td>Entire home/apt</td>\n",
              "      <td>Barcelona</td>\n",
              "      <td>Sant Martí</td>\n",
              "      <td>16</td>\n",
              "      <td>5.0</td>\n",
              "      <td>5</td>\n",
              "      <td>3.0</td>\n",
              "      <td>108.0</td>\n",
              "      <td>Very cozy apartment !!!</td>\n",
              "      <td>4.870432</td>\n",
              "    </tr>\n",
              "    <tr>\n",
              "      <th>2295</th>\n",
              "      <td>13700</td>\n",
              "      <td>9908619</td>\n",
              "      <td>1477</td>\n",
              "      <td>48848676</td>\n",
              "      <td>Private room</td>\n",
              "      <td>Barcelona</td>\n",
              "      <td>Eixample</td>\n",
              "      <td>91</td>\n",
              "      <td>4.5</td>\n",
              "      <td>2</td>\n",
              "      <td>1.0</td>\n",
              "      <td>54.0</td>\n",
              "      <td>Cozy, perfect for 2 @ Rambla</td>\n",
              "      <td>4.485675</td>\n",
              "    </tr>\n",
              "    <tr>\n",
              "      <th>2558</th>\n",
              "      <td>8140</td>\n",
              "      <td>2564065</td>\n",
              "      <td>1477</td>\n",
              "      <td>1760302</td>\n",
              "      <td>Entire home/apt</td>\n",
              "      <td>Barcelona</td>\n",
              "      <td>Eixample</td>\n",
              "      <td>70</td>\n",
              "      <td>4.5</td>\n",
              "      <td>2</td>\n",
              "      <td>0.0</td>\n",
              "      <td>74.0</td>\n",
              "      <td>Cozy Apartment for 2 - WIFI</td>\n",
              "      <td>4.481497</td>\n",
              "    </tr>\n",
              "    <tr>\n",
              "      <th>3031</th>\n",
              "      <td>6577</td>\n",
              "      <td>3441799</td>\n",
              "      <td>1477</td>\n",
              "      <td>2041901</td>\n",
              "      <td>Entire home/apt</td>\n",
              "      <td>Barcelona</td>\n",
              "      <td>Gràcia</td>\n",
              "      <td>48</td>\n",
              "      <td>4.5</td>\n",
              "      <td>4</td>\n",
              "      <td>1.0</td>\n",
              "      <td>114.0</td>\n",
              "      <td>Cozy, with terrace, Wifi and A/C</td>\n",
              "      <td>4.473356</td>\n",
              "    </tr>\n",
              "    <tr>\n",
              "      <th>4285</th>\n",
              "      <td>4571</td>\n",
              "      <td>6487044</td>\n",
              "      <td>1477</td>\n",
              "      <td>3678711</td>\n",
              "      <td>Entire home/apt</td>\n",
              "      <td>Barcelona</td>\n",
              "      <td>Gràcia</td>\n",
              "      <td>17</td>\n",
              "      <td>4.5</td>\n",
              "      <td>5</td>\n",
              "      <td>2.0</td>\n",
              "      <td>130.0</td>\n",
              "      <td>PERFECT LOCATED apartment with WIFI</td>\n",
              "      <td>4.429883</td>\n",
              "    </tr>\n",
              "    <tr>\n",
              "      <th>4656</th>\n",
              "      <td>5592</td>\n",
              "      <td>16891698</td>\n",
              "      <td>1477</td>\n",
              "      <td>6776202</td>\n",
              "      <td>Entire home/apt</td>\n",
              "      <td>Barcelona</td>\n",
              "      <td>Sant Andreu</td>\n",
              "      <td>12</td>\n",
              "      <td>4.5</td>\n",
              "      <td>5</td>\n",
              "      <td>2.0</td>\n",
              "      <td>114.0</td>\n",
              "      <td>Cozy apartment S -1</td>\n",
              "      <td>4.404842</td>\n",
              "    </tr>\n",
              "    <tr>\n",
              "      <th>4817</th>\n",
              "      <td>4213</td>\n",
              "      <td>16334092</td>\n",
              "      <td>1477</td>\n",
              "      <td>106907544</td>\n",
              "      <td>Entire home/apt</td>\n",
              "      <td>Barcelona</td>\n",
              "      <td>Eixample</td>\n",
              "      <td>10</td>\n",
              "      <td>4.5</td>\n",
              "      <td>8</td>\n",
              "      <td>3.0</td>\n",
              "      <td>144.0</td>\n",
              "      <td>Cozy Apartment!</td>\n",
              "      <td>4.388982</td>\n",
              "    </tr>\n",
              "    <tr>\n",
              "      <th>5726</th>\n",
              "      <td>7169</td>\n",
              "      <td>2626883</td>\n",
              "      <td>1477</td>\n",
              "      <td>11070021</td>\n",
              "      <td>Entire home/apt</td>\n",
              "      <td>Barcelona</td>\n",
              "      <td>Nou Barris</td>\n",
              "      <td>106</td>\n",
              "      <td>4.0</td>\n",
              "      <td>4</td>\n",
              "      <td>3.0</td>\n",
              "      <td>96.0</td>\n",
              "      <td>Economical apartment near the metro, WiFi</td>\n",
              "      <td>3.996924</td>\n",
              "    </tr>\n",
              "    <tr>\n",
              "      <th>6377</th>\n",
              "      <td>15845</td>\n",
              "      <td>18585244</td>\n",
              "      <td>1477</td>\n",
              "      <td>85847207</td>\n",
              "      <td>Private room</td>\n",
              "      <td>Barcelona</td>\n",
              "      <td>Les Corts</td>\n",
              "      <td>13</td>\n",
              "      <td>4.0</td>\n",
              "      <td>2</td>\n",
              "      <td>1.0</td>\n",
              "      <td>41.0</td>\n",
              "      <td>5 Cozy Room 2 beds + Wifi + Metro + futbol</td>\n",
              "      <td>3.977852</td>\n",
              "    </tr>\n",
              "    <tr>\n",
              "      <th>6841</th>\n",
              "      <td>15168</td>\n",
              "      <td>14718397</td>\n",
              "      <td>1477</td>\n",
              "      <td>10445396</td>\n",
              "      <td>Private room</td>\n",
              "      <td>Barcelona</td>\n",
              "      <td>Eixample</td>\n",
              "      <td>3</td>\n",
              "      <td>3.5</td>\n",
              "      <td>4</td>\n",
              "      <td>2.0</td>\n",
              "      <td>16.0</td>\n",
              "      <td>COZY ROOMS, PERFECT LOCATION!</td>\n",
              "      <td>3.633557</td>\n",
              "    </tr>\n",
              "  </tbody>\n",
              "</table>\n",
              "</div>"
            ],
            "text/plain": [
              "      index   room_id  ...                                        name     score\n",
              "932    5177  18213035  ...                     Very cozy apartment !!!  4.870432\n",
              "2295  13700   9908619  ...                Cozy, perfect for 2 @ Rambla  4.485675\n",
              "2558   8140   2564065  ...                 Cozy Apartment for 2 - WIFI  4.481497\n",
              "3031   6577   3441799  ...            Cozy, with terrace, Wifi and A/C  4.473356\n",
              "4285   4571   6487044  ...         PERFECT LOCATED apartment with WIFI  4.429883\n",
              "4656   5592  16891698  ...                         Cozy apartment S -1  4.404842\n",
              "4817   4213  16334092  ...                             Cozy Apartment!  4.388982\n",
              "5726   7169   2626883  ...   Economical apartment near the metro, WiFi  3.996924\n",
              "6377  15845  18585244  ...  5 Cozy Room 2 beds + Wifi + Metro + futbol  3.977852\n",
              "6841  15168  14718397  ...               COZY ROOMS, PERFECT LOCATION!  3.633557\n",
              "\n",
              "[10 rows x 14 columns]"
            ]
          },
          "metadata": {
            "tags": []
          },
          "execution_count": 84
        }
      ]
    },
    {
      "cell_type": "markdown",
      "metadata": {
        "id": "8NHxcRlWHCIp",
        "colab_type": "text"
      },
      "source": [
        "#Evaluation metrics  for The recommendation made to the host ,  about the best rooms in his property"
      ]
    },
    {
      "cell_type": "code",
      "metadata": {
        "id": "iuBQ2pXEiiZR",
        "colab_type": "code",
        "colab": {}
      },
      "source": [
        "\n",
        "def assign_to_set(df1):\n",
        "    sampled_ids = np.random.choice(df1.index,\n",
        "                                   size=np.int64(np.ceil(df1.index.size * 0.2)),\n",
        "                                   replace=False)\n",
        "    df1.ix[sampled_ids, 'for_testing'] = True\n",
        "    return df1\n",
        "\n",
        "df1['for_testing'] = False\n",
        "grouped = df1.groupby('host_id', group_keys=False).apply(assign_to_set)\n",
        "df1_train =df1[grouped.for_testing == False]\n",
        "df1_test =df1[grouped.for_testing == True]\n",
        "df1=df1.drop(columns=['for_testing'])"
      ],
      "execution_count": 0,
      "outputs": []
    },
    {
      "cell_type": "code",
      "metadata": {
        "id": "5buna-phEsWU",
        "colab_type": "code",
        "colab": {
          "base_uri": "https://localhost:8080/",
          "height": 52
        },
        "outputId": "82726f88-2932-4310-d21c-3601539bf8fe"
      },
      "source": [
        "print(df1_train.shape)\n",
        "\n",
        "print(df1_test.shape)"
      ],
      "execution_count": 67,
      "outputs": [
        {
          "output_type": "stream",
          "text": [
            "(5515, 15)\n",
            "(2841, 15)\n"
          ],
          "name": "stdout"
        }
      ]
    },
    {
      "cell_type": "code",
      "metadata": {
        "id": "UdRO8gWMFWA4",
        "colab_type": "code",
        "colab": {
          "base_uri": "https://localhost:8080/",
          "height": 34
        },
        "outputId": "0c1f947a-8932-4711-cb54-3ccbdd75914c"
      },
      "source": [
        "\n",
        "def compute_rmse(y_pred, y_true):\n",
        "    \"\"\" Compute Root Mean Squared Error. \"\"\"\n",
        "    \n",
        "    return np.sqrt(np.mean(np.power(y_pred - y_true, 2)))\n",
        "def evaluate(estimate_f):\n",
        "    \"\"\" RMSE-based predictive performance evaluation with pandas. \"\"\"\n",
        "    \n",
        "    ids_to_estimate = zip(df1_test.host_id, df1_test.room_id)\n",
        "    estimated = np.array([estimate_f(u,i) for (u,i) in ids_to_estimate])\n",
        "    real = df1_test.score.values\n",
        "    return compute_rmse(estimated, real)\n",
        "def my_estimate_function(host_id,room_id):\n",
        "    return 3\n",
        "print ('RMSE for my estimate function: %s' % evaluate(my_estimate_function))"
      ],
      "execution_count": 69,
      "outputs": [
        {
          "output_type": "stream",
          "text": [
            "RMSE for my estimate function: 1.3967294261489693\n"
          ],
          "name": "stdout"
        }
      ]
    }
  ]
}